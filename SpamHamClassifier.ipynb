{
 "cells": [
  {
   "cell_type": "code",
   "execution_count": 1,
   "id": "ee12545a",
   "metadata": {
    "_cell_guid": "b1076dfc-b9ad-4769-8c92-a6c4dae69d19",
    "_uuid": "8f2839f25d086af736a60e9eeb907d3b93b6e0e5",
    "execution": {
     "iopub.execute_input": "2023-06-30T04:15:35.826642Z",
     "iopub.status.busy": "2023-06-30T04:15:35.826291Z",
     "iopub.status.idle": "2023-06-30T04:15:35.842532Z",
     "shell.execute_reply": "2023-06-30T04:15:35.841669Z"
    },
    "papermill": {
     "duration": 0.027769,
     "end_time": "2023-06-30T04:15:35.844523",
     "exception": false,
     "start_time": "2023-06-30T04:15:35.816754",
     "status": "completed"
    },
    "tags": []
   },
   "outputs": [
    {
     "name": "stdout",
     "output_type": "stream",
     "text": [
      "/kaggle/input/sms-spam-collection-dataset/spam.csv\n"
     ]
    }
   ],
   "source": [
    "# This Python 3 environment comes with many helpful analytics libraries installed\n",
    "# It is defined by the kaggle/python Docker image: https://github.com/kaggle/docker-python\n",
    "# For example, here's several helpful packages to load\n",
    "\n",
    "import numpy as np # linear algebra\n",
    "import pandas as pd # data processing, CSV file I/O (e.g. pd.read_csv)\n",
    "\n",
    "# Input data files are available in the read-only \"../input/\" directory\n",
    "# For example, running this (by clicking run or pressing Shift+Enter) will list all files under the input directory\n",
    "\n",
    "import os\n",
    "for dirname, _, filenames in os.walk('/kaggle/input'):\n",
    "    for filename in filenames:\n",
    "        print(os.path.join(dirname, filename))\n",
    "\n",
    "# You can write up to 20GB to the current directory (/kaggle/working/) that gets preserved as output when you create a version using \"Save & Run All\" \n",
    "# You can also write temporary files to /kaggle/temp/, but they won't be saved outside of the current session"
   ]
  },
  {
   "cell_type": "code",
   "execution_count": 2,
   "id": "4bf2415b",
   "metadata": {
    "execution": {
     "iopub.execute_input": "2023-06-30T04:15:35.858198Z",
     "iopub.status.busy": "2023-06-30T04:15:35.857722Z",
     "iopub.status.idle": "2023-06-30T04:15:37.133722Z",
     "shell.execute_reply": "2023-06-30T04:15:37.132905Z"
    },
    "papermill": {
     "duration": 1.285048,
     "end_time": "2023-06-30T04:15:37.135984",
     "exception": false,
     "start_time": "2023-06-30T04:15:35.850936",
     "status": "completed"
    },
    "tags": []
   },
   "outputs": [],
   "source": [
    "import pandas as pd\n",
    "import numpy as np\n",
    "import matplotlib.pyplot as plt\n",
    "import seaborn as sns\n",
    "\n",
    "%matplotlib inline"
   ]
  },
  {
   "cell_type": "code",
   "execution_count": 3,
   "id": "995eb7e7",
   "metadata": {
    "execution": {
     "iopub.execute_input": "2023-06-30T04:15:37.149402Z",
     "iopub.status.busy": "2023-06-30T04:15:37.149100Z",
     "iopub.status.idle": "2023-06-30T04:15:37.224647Z",
     "shell.execute_reply": "2023-06-30T04:15:37.223219Z"
    },
    "papermill": {
     "duration": 0.084808,
     "end_time": "2023-06-30T04:15:37.227087",
     "exception": false,
     "start_time": "2023-06-30T04:15:37.142279",
     "status": "completed"
    },
    "tags": []
   },
   "outputs": [
    {
     "name": "stdout",
     "output_type": "stream",
     "text": [
      "(5572, 5)\n"
     ]
    },
    {
     "data": {
      "text/html": [
       "<div>\n",
       "<style scoped>\n",
       "    .dataframe tbody tr th:only-of-type {\n",
       "        vertical-align: middle;\n",
       "    }\n",
       "\n",
       "    .dataframe tbody tr th {\n",
       "        vertical-align: top;\n",
       "    }\n",
       "\n",
       "    .dataframe thead th {\n",
       "        text-align: right;\n",
       "    }\n",
       "</style>\n",
       "<table border=\"1\" class=\"dataframe\">\n",
       "  <thead>\n",
       "    <tr style=\"text-align: right;\">\n",
       "      <th></th>\n",
       "      <th>v1</th>\n",
       "      <th>v2</th>\n",
       "      <th>Unnamed: 2</th>\n",
       "      <th>Unnamed: 3</th>\n",
       "      <th>Unnamed: 4</th>\n",
       "    </tr>\n",
       "  </thead>\n",
       "  <tbody>\n",
       "    <tr>\n",
       "      <th>0</th>\n",
       "      <td>ham</td>\n",
       "      <td>Go until jurong point, crazy.. Available only ...</td>\n",
       "      <td>NaN</td>\n",
       "      <td>NaN</td>\n",
       "      <td>NaN</td>\n",
       "    </tr>\n",
       "    <tr>\n",
       "      <th>1</th>\n",
       "      <td>ham</td>\n",
       "      <td>Ok lar... Joking wif u oni...</td>\n",
       "      <td>NaN</td>\n",
       "      <td>NaN</td>\n",
       "      <td>NaN</td>\n",
       "    </tr>\n",
       "    <tr>\n",
       "      <th>2</th>\n",
       "      <td>spam</td>\n",
       "      <td>Free entry in 2 a wkly comp to win FA Cup fina...</td>\n",
       "      <td>NaN</td>\n",
       "      <td>NaN</td>\n",
       "      <td>NaN</td>\n",
       "    </tr>\n",
       "    <tr>\n",
       "      <th>3</th>\n",
       "      <td>ham</td>\n",
       "      <td>U dun say so early hor... U c already then say...</td>\n",
       "      <td>NaN</td>\n",
       "      <td>NaN</td>\n",
       "      <td>NaN</td>\n",
       "    </tr>\n",
       "    <tr>\n",
       "      <th>4</th>\n",
       "      <td>ham</td>\n",
       "      <td>Nah I don't think he goes to usf, he lives aro...</td>\n",
       "      <td>NaN</td>\n",
       "      <td>NaN</td>\n",
       "      <td>NaN</td>\n",
       "    </tr>\n",
       "  </tbody>\n",
       "</table>\n",
       "</div>"
      ],
      "text/plain": [
       "     v1                                                 v2 Unnamed: 2  \\\n",
       "0   ham  Go until jurong point, crazy.. Available only ...        NaN   \n",
       "1   ham                      Ok lar... Joking wif u oni...        NaN   \n",
       "2  spam  Free entry in 2 a wkly comp to win FA Cup fina...        NaN   \n",
       "3   ham  U dun say so early hor... U c already then say...        NaN   \n",
       "4   ham  Nah I don't think he goes to usf, he lives aro...        NaN   \n",
       "\n",
       "  Unnamed: 3 Unnamed: 4  \n",
       "0        NaN        NaN  \n",
       "1        NaN        NaN  \n",
       "2        NaN        NaN  \n",
       "3        NaN        NaN  \n",
       "4        NaN        NaN  "
      ]
     },
     "execution_count": 3,
     "metadata": {},
     "output_type": "execute_result"
    }
   ],
   "source": [
    "spam = pd.read_csv(\"../input/sms-spam-collection-dataset/spam.csv\", encoding='ISO-8859-1')\n",
    "\n",
    "print(spam.shape)\n",
    "spam.head()"
   ]
  },
  {
   "cell_type": "code",
   "execution_count": 4,
   "id": "3efbfab5",
   "metadata": {
    "execution": {
     "iopub.execute_input": "2023-06-30T04:15:37.241910Z",
     "iopub.status.busy": "2023-06-30T04:15:37.241033Z",
     "iopub.status.idle": "2023-06-30T04:15:37.251932Z",
     "shell.execute_reply": "2023-06-30T04:15:37.250917Z"
    },
    "papermill": {
     "duration": 0.020993,
     "end_time": "2023-06-30T04:15:37.254553",
     "exception": false,
     "start_time": "2023-06-30T04:15:37.233560",
     "status": "completed"
    },
    "tags": []
   },
   "outputs": [
    {
     "name": "stdout",
     "output_type": "stream",
     "text": [
      "(5572, 2)\n"
     ]
    },
    {
     "data": {
      "text/html": [
       "<div>\n",
       "<style scoped>\n",
       "    .dataframe tbody tr th:only-of-type {\n",
       "        vertical-align: middle;\n",
       "    }\n",
       "\n",
       "    .dataframe tbody tr th {\n",
       "        vertical-align: top;\n",
       "    }\n",
       "\n",
       "    .dataframe thead th {\n",
       "        text-align: right;\n",
       "    }\n",
       "</style>\n",
       "<table border=\"1\" class=\"dataframe\">\n",
       "  <thead>\n",
       "    <tr style=\"text-align: right;\">\n",
       "      <th></th>\n",
       "      <th>label</th>\n",
       "      <th>sms</th>\n",
       "    </tr>\n",
       "  </thead>\n",
       "  <tbody>\n",
       "    <tr>\n",
       "      <th>0</th>\n",
       "      <td>ham</td>\n",
       "      <td>Go until jurong point, crazy.. Available only ...</td>\n",
       "    </tr>\n",
       "    <tr>\n",
       "      <th>1</th>\n",
       "      <td>ham</td>\n",
       "      <td>Ok lar... Joking wif u oni...</td>\n",
       "    </tr>\n",
       "    <tr>\n",
       "      <th>2</th>\n",
       "      <td>spam</td>\n",
       "      <td>Free entry in 2 a wkly comp to win FA Cup fina...</td>\n",
       "    </tr>\n",
       "    <tr>\n",
       "      <th>3</th>\n",
       "      <td>ham</td>\n",
       "      <td>U dun say so early hor... U c already then say...</td>\n",
       "    </tr>\n",
       "    <tr>\n",
       "      <th>4</th>\n",
       "      <td>ham</td>\n",
       "      <td>Nah I don't think he goes to usf, he lives aro...</td>\n",
       "    </tr>\n",
       "  </tbody>\n",
       "</table>\n",
       "</div>"
      ],
      "text/plain": [
       "  label                                                sms\n",
       "0   ham  Go until jurong point, crazy.. Available only ...\n",
       "1   ham                      Ok lar... Joking wif u oni...\n",
       "2  spam  Free entry in 2 a wkly comp to win FA Cup fina...\n",
       "3   ham  U dun say so early hor... U c already then say...\n",
       "4   ham  Nah I don't think he goes to usf, he lives aro..."
      ]
     },
     "execution_count": 4,
     "metadata": {},
     "output_type": "execute_result"
    }
   ],
   "source": [
    "# trim table to have only 2 columns: label (ham/spam), sms text\n",
    "spam=spam.iloc[:,:2]\n",
    "print(spam.shape)\n",
    "spam.columns=['label','sms']\n",
    "spam.head()"
   ]
  },
  {
   "cell_type": "code",
   "execution_count": 5,
   "id": "3c69595a",
   "metadata": {
    "execution": {
     "iopub.execute_input": "2023-06-30T04:15:37.271905Z",
     "iopub.status.busy": "2023-06-30T04:15:37.271213Z",
     "iopub.status.idle": "2023-06-30T04:15:37.294733Z",
     "shell.execute_reply": "2023-06-30T04:15:37.293296Z"
    },
    "papermill": {
     "duration": 0.03558,
     "end_time": "2023-06-30T04:15:37.297067",
     "exception": false,
     "start_time": "2023-06-30T04:15:37.261487",
     "status": "completed"
    },
    "tags": []
   },
   "outputs": [
    {
     "data": {
      "text/html": [
       "<div>\n",
       "<style scoped>\n",
       "    .dataframe tbody tr th:only-of-type {\n",
       "        vertical-align: middle;\n",
       "    }\n",
       "\n",
       "    .dataframe tbody tr th {\n",
       "        vertical-align: top;\n",
       "    }\n",
       "\n",
       "    .dataframe thead th {\n",
       "        text-align: right;\n",
       "    }\n",
       "</style>\n",
       "<table border=\"1\" class=\"dataframe\">\n",
       "  <thead>\n",
       "    <tr style=\"text-align: right;\">\n",
       "      <th></th>\n",
       "      <th>label</th>\n",
       "      <th>sms</th>\n",
       "    </tr>\n",
       "  </thead>\n",
       "  <tbody>\n",
       "    <tr>\n",
       "      <th>count</th>\n",
       "      <td>5572</td>\n",
       "      <td>5572</td>\n",
       "    </tr>\n",
       "    <tr>\n",
       "      <th>unique</th>\n",
       "      <td>2</td>\n",
       "      <td>5169</td>\n",
       "    </tr>\n",
       "    <tr>\n",
       "      <th>top</th>\n",
       "      <td>ham</td>\n",
       "      <td>Sorry, I'll call later</td>\n",
       "    </tr>\n",
       "    <tr>\n",
       "      <th>freq</th>\n",
       "      <td>4825</td>\n",
       "      <td>30</td>\n",
       "    </tr>\n",
       "  </tbody>\n",
       "</table>\n",
       "</div>"
      ],
      "text/plain": [
       "       label                     sms\n",
       "count   5572                    5572\n",
       "unique     2                    5169\n",
       "top      ham  Sorry, I'll call later\n",
       "freq    4825                      30"
      ]
     },
     "execution_count": 5,
     "metadata": {},
     "output_type": "execute_result"
    }
   ],
   "source": [
    "spam.describe()"
   ]
  },
  {
   "cell_type": "code",
   "execution_count": 6,
   "id": "50da3662",
   "metadata": {
    "execution": {
     "iopub.execute_input": "2023-06-30T04:15:37.313606Z",
     "iopub.status.busy": "2023-06-30T04:15:37.313050Z",
     "iopub.status.idle": "2023-06-30T04:15:37.577143Z",
     "shell.execute_reply": "2023-06-30T04:15:37.575734Z"
    },
    "papermill": {
     "duration": 0.274805,
     "end_time": "2023-06-30T04:15:37.579725",
     "exception": false,
     "start_time": "2023-06-30T04:15:37.304920",
     "status": "completed"
    },
    "tags": []
   },
   "outputs": [
    {
     "name": "stdout",
     "output_type": "stream",
     "text": [
      "     label                                                sms  contains_free\n",
      "0      ham  Go until jurong point, crazy.. Available only ...              0\n",
      "1      ham                      Ok lar... Joking wif u oni...              0\n",
      "2     spam  Free entry in 2 a wkly comp to win FA Cup fina...              1\n",
      "3      ham  U dun say so early hor... U c already then say...              0\n",
      "4      ham  Nah I don't think he goes to usf, he lives aro...              0\n",
      "...    ...                                                ...            ...\n",
      "5567  spam  This is the 2nd time we have tried 2 contact u...              0\n",
      "5568   ham              Will Ì_ b going to esplanade fr home?              0\n",
      "5569   ham  Pity, * was in mood for that. So...any other s...              0\n",
      "5570   ham  The guy did some bitching but I acted like i'd...              1\n",
      "5571   ham                         Rofl. Its true to its name              0\n",
      "\n",
      "[5572 rows x 3 columns]\n",
      "Number of spam messages containing 'free': 199\n",
      "Number of ham messages containing 'free': 66\n"
     ]
    }
   ],
   "source": [
    "spam['contains_free'] = 0\n",
    "\n",
    "spam_free = 0\n",
    "ham_free = 0\n",
    "\n",
    "for index, row in spam.iterrows():\n",
    "    if 'free' in row['sms'].lower():\n",
    "        spam.at[index, 'contains_free'] = 1\n",
    "        \n",
    "        if row['label'] == 'spam':\n",
    "            spam_free += 1\n",
    "        else:\n",
    "            ham_free += 1\n",
    "\n",
    "print(spam)\n",
    "print(\"Number of spam messages containing 'free':\", spam_free)\n",
    "print(\"Number of ham messages containing 'free':\", ham_free)\n",
    "\n",
    "# a lot more spam messages contain the word \"free\" -- as expected !"
   ]
  },
  {
   "cell_type": "code",
   "execution_count": 7,
   "id": "03ad0a66",
   "metadata": {
    "execution": {
     "iopub.execute_input": "2023-06-30T04:15:37.595231Z",
     "iopub.status.busy": "2023-06-30T04:15:37.594780Z",
     "iopub.status.idle": "2023-06-30T04:16:03.415458Z",
     "shell.execute_reply": "2023-06-30T04:16:03.414265Z"
    },
    "papermill": {
     "duration": 25.831067,
     "end_time": "2023-06-30T04:16:03.417812",
     "exception": false,
     "start_time": "2023-06-30T04:15:37.586745",
     "status": "completed"
    },
    "tags": []
   },
   "outputs": [
    {
     "name": "stdout",
     "output_type": "stream",
     "text": [
      "Requirement already satisfied: tensorflow-io in /opt/conda/lib/python3.10/site-packages (0.31.0)\r\n",
      "Collecting tensorflow-io\r\n",
      "  Downloading tensorflow_io-0.32.0-cp310-cp310-manylinux_2_12_x86_64.manylinux2010_x86_64.whl (28.0 MB)\r\n",
      "\u001b[2K     \u001b[90m━━━━━━━━━━━━━━━━━━━━━━━━━━━━━━━━━━━━━━━━\u001b[0m \u001b[32m28.0/28.0 MB\u001b[0m \u001b[31m60.5 MB/s\u001b[0m eta \u001b[36m0:00:00\u001b[0m\r\n",
      "\u001b[?25hCollecting tensorflow-io-gcs-filesystem==0.32.0 (from tensorflow-io)\r\n",
      "  Downloading tensorflow_io_gcs_filesystem-0.32.0-cp310-cp310-manylinux_2_12_x86_64.manylinux2010_x86_64.whl (2.4 MB)\r\n",
      "\u001b[2K     \u001b[90m━━━━━━━━━━━━━━━━━━━━━━━━━━━━━━━━━━━━━━━━\u001b[0m \u001b[32m2.4/2.4 MB\u001b[0m \u001b[31m85.7 MB/s\u001b[0m eta \u001b[36m0:00:00\u001b[0m\r\n",
      "\u001b[?25hInstalling collected packages: tensorflow-io-gcs-filesystem, tensorflow-io\r\n",
      "  Attempting uninstall: tensorflow-io-gcs-filesystem\r\n",
      "    Found existing installation: tensorflow-io-gcs-filesystem 0.31.0\r\n",
      "    Uninstalling tensorflow-io-gcs-filesystem-0.31.0:\r\n",
      "      Successfully uninstalled tensorflow-io-gcs-filesystem-0.31.0\r\n",
      "  Attempting uninstall: tensorflow-io\r\n",
      "    Found existing installation: tensorflow-io 0.31.0\r\n",
      "    Uninstalling tensorflow-io-0.31.0:\r\n",
      "      Successfully uninstalled tensorflow-io-0.31.0\r\n",
      "Successfully installed tensorflow-io-0.32.0 tensorflow-io-gcs-filesystem-0.32.0\r\n",
      "\u001b[33mWARNING: Running pip as the 'root' user can result in broken permissions and conflicting behaviour with the system package manager. It is recommended to use a virtual environment instead: https://pip.pypa.io/warnings/venv\u001b[0m\u001b[33m\r\n",
      "\u001b[0mNote: you may need to restart the kernel to use updated packages.\n"
     ]
    }
   ],
   "source": [
    "# import nlp library and feed blog, comment, dataset\n",
    "%pip install --upgrade tensorflow-io\n",
    "\n",
    "import spacy\n",
    "nlp = spacy.load(\"en_core_web_sm\")\n"
   ]
  },
  {
   "cell_type": "code",
   "execution_count": 8,
   "id": "158ba046",
   "metadata": {
    "execution": {
     "iopub.execute_input": "2023-06-30T04:16:03.435194Z",
     "iopub.status.busy": "2023-06-30T04:16:03.434543Z",
     "iopub.status.idle": "2023-06-30T04:16:03.440602Z",
     "shell.execute_reply": "2023-06-30T04:16:03.439726Z"
    },
    "papermill": {
     "duration": 0.016553,
     "end_time": "2023-06-30T04:16:03.442299",
     "exception": false,
     "start_time": "2023-06-30T04:16:03.425746",
     "status": "completed"
    },
    "tags": []
   },
   "outputs": [],
   "source": [
    "# define a function that converts messages to remove stop words, punctuations: for cleansing\n",
    "def msg_process(msg_text,toStem=False):\n",
    "    text = nlp(msg_text)\n",
    "    result = []\n",
    "    \n",
    "    \n",
    "    # iterate over each token as processed by nlp over the msg_text\n",
    "    for tkn in text:\n",
    "        \n",
    "        # check if the token is a punctuation and if it is a stop word (eg: a,an,the,..)\n",
    "        if not tkn.pos_ == 'PUNCT' and not tkn.is_stop:\n",
    "            \n",
    "            # if we want the msg to be stemmed, we do so\n",
    "            if toStem == True:\n",
    "                tkn = tkn.lemma_.lower()\n",
    "            else:\n",
    "                # spacy already has an attribute called lower_ !\n",
    "                tkn = tkn.lower_\n",
    "            \n",
    "            # we add the processed message to the result list\n",
    "            result.append(tkn)\n",
    "            \n",
    "    \n",
    "    # return the contents of the result list separated by a space\n",
    "    return ' '.join(result)"
   ]
  },
  {
   "cell_type": "code",
   "execution_count": 9,
   "id": "8dce8219",
   "metadata": {
    "execution": {
     "iopub.execute_input": "2023-06-30T04:16:03.459564Z",
     "iopub.status.busy": "2023-06-30T04:16:03.459203Z",
     "iopub.status.idle": "2023-06-30T04:16:03.487011Z",
     "shell.execute_reply": "2023-06-30T04:16:03.486068Z"
    },
    "papermill": {
     "duration": 0.038992,
     "end_time": "2023-06-30T04:16:03.489288",
     "exception": false,
     "start_time": "2023-06-30T04:16:03.450296",
     "status": "completed"
    },
    "tags": []
   },
   "outputs": [
    {
     "data": {
      "text/plain": [
       "'hello da water raining'"
      ]
     },
     "execution_count": 9,
     "metadata": {},
     "output_type": "execute_result"
    }
   ],
   "source": [
    "msg_process('HELLO i am under da water here too much raining ',toStem=True)"
   ]
  },
  {
   "cell_type": "code",
   "execution_count": 10,
   "id": "056fd2b2",
   "metadata": {
    "execution": {
     "iopub.execute_input": "2023-06-30T04:16:03.507280Z",
     "iopub.status.busy": "2023-06-30T04:16:03.506914Z",
     "iopub.status.idle": "2023-06-30T04:16:03.523176Z",
     "shell.execute_reply": "2023-06-30T04:16:03.521859Z"
    },
    "papermill": {
     "duration": 0.027641,
     "end_time": "2023-06-30T04:16:03.525064",
     "exception": false,
     "start_time": "2023-06-30T04:16:03.497423",
     "status": "completed"
    },
    "tags": []
   },
   "outputs": [
    {
     "data": {
      "text/html": [
       "<div>\n",
       "<style scoped>\n",
       "    .dataframe tbody tr th:only-of-type {\n",
       "        vertical-align: middle;\n",
       "    }\n",
       "\n",
       "    .dataframe tbody tr th {\n",
       "        vertical-align: top;\n",
       "    }\n",
       "\n",
       "    .dataframe thead th {\n",
       "        text-align: right;\n",
       "    }\n",
       "</style>\n",
       "<table border=\"1\" class=\"dataframe\">\n",
       "  <thead>\n",
       "    <tr style=\"text-align: right;\">\n",
       "      <th></th>\n",
       "      <th>label</th>\n",
       "      <th>sms</th>\n",
       "      <th>contains_free</th>\n",
       "      <th>binaryLabel</th>\n",
       "    </tr>\n",
       "  </thead>\n",
       "  <tbody>\n",
       "    <tr>\n",
       "      <th>0</th>\n",
       "      <td>ham</td>\n",
       "      <td>Go until jurong point, crazy.. Available only ...</td>\n",
       "      <td>0</td>\n",
       "      <td>0</td>\n",
       "    </tr>\n",
       "    <tr>\n",
       "      <th>1</th>\n",
       "      <td>ham</td>\n",
       "      <td>Ok lar... Joking wif u oni...</td>\n",
       "      <td>0</td>\n",
       "      <td>0</td>\n",
       "    </tr>\n",
       "    <tr>\n",
       "      <th>2</th>\n",
       "      <td>spam</td>\n",
       "      <td>Free entry in 2 a wkly comp to win FA Cup fina...</td>\n",
       "      <td>1</td>\n",
       "      <td>1</td>\n",
       "    </tr>\n",
       "    <tr>\n",
       "      <th>3</th>\n",
       "      <td>ham</td>\n",
       "      <td>U dun say so early hor... U c already then say...</td>\n",
       "      <td>0</td>\n",
       "      <td>0</td>\n",
       "    </tr>\n",
       "    <tr>\n",
       "      <th>4</th>\n",
       "      <td>ham</td>\n",
       "      <td>Nah I don't think he goes to usf, he lives aro...</td>\n",
       "      <td>0</td>\n",
       "      <td>0</td>\n",
       "    </tr>\n",
       "  </tbody>\n",
       "</table>\n",
       "</div>"
      ],
      "text/plain": [
       "  label                                                sms  contains_free  \\\n",
       "0   ham  Go until jurong point, crazy.. Available only ...              0   \n",
       "1   ham                      Ok lar... Joking wif u oni...              0   \n",
       "2  spam  Free entry in 2 a wkly comp to win FA Cup fina...              1   \n",
       "3   ham  U dun say so early hor... U c already then say...              0   \n",
       "4   ham  Nah I don't think he goes to usf, he lives aro...              0   \n",
       "\n",
       "   binaryLabel  \n",
       "0            0  \n",
       "1            0  \n",
       "2            1  \n",
       "3            0  \n",
       "4            0  "
      ]
     },
     "execution_count": 10,
     "metadata": {},
     "output_type": "execute_result"
    }
   ],
   "source": [
    "spam['binaryLabel'] = spam['label'].map({'ham':0, 'spam':1})\n",
    "spam.head()"
   ]
  },
  {
   "cell_type": "code",
   "execution_count": 11,
   "id": "627b5667",
   "metadata": {
    "execution": {
     "iopub.execute_input": "2023-06-30T04:16:03.543580Z",
     "iopub.status.busy": "2023-06-30T04:16:03.542763Z",
     "iopub.status.idle": "2023-06-30T04:17:09.370032Z",
     "shell.execute_reply": "2023-06-30T04:17:09.368960Z"
    },
    "papermill": {
     "duration": 65.846205,
     "end_time": "2023-06-30T04:17:09.379423",
     "exception": false,
     "start_time": "2023-06-30T04:16:03.533218",
     "status": "completed"
    },
    "tags": []
   },
   "outputs": [
    {
     "data": {
      "text/html": [
       "<div>\n",
       "<style scoped>\n",
       "    .dataframe tbody tr th:only-of-type {\n",
       "        vertical-align: middle;\n",
       "    }\n",
       "\n",
       "    .dataframe tbody tr th {\n",
       "        vertical-align: top;\n",
       "    }\n",
       "\n",
       "    .dataframe thead th {\n",
       "        text-align: right;\n",
       "    }\n",
       "</style>\n",
       "<table border=\"1\" class=\"dataframe\">\n",
       "  <thead>\n",
       "    <tr style=\"text-align: right;\">\n",
       "      <th></th>\n",
       "      <th>label</th>\n",
       "      <th>sms</th>\n",
       "      <th>contains_free</th>\n",
       "      <th>binaryLabel</th>\n",
       "      <th>sms_trim</th>\n",
       "      <th>sms_trim_lemma</th>\n",
       "    </tr>\n",
       "  </thead>\n",
       "  <tbody>\n",
       "    <tr>\n",
       "      <th>0</th>\n",
       "      <td>ham</td>\n",
       "      <td>Go until jurong point, crazy.. Available only ...</td>\n",
       "      <td>0</td>\n",
       "      <td>0</td>\n",
       "      <td>jurong point crazy available bugis n great wor...</td>\n",
       "      <td>jurong point crazy available bugis n great wor...</td>\n",
       "    </tr>\n",
       "    <tr>\n",
       "      <th>1</th>\n",
       "      <td>ham</td>\n",
       "      <td>Ok lar... Joking wif u oni...</td>\n",
       "      <td>0</td>\n",
       "      <td>0</td>\n",
       "      <td>ok lar joking wif u oni</td>\n",
       "      <td>ok lar joke wif u oni</td>\n",
       "    </tr>\n",
       "    <tr>\n",
       "      <th>2</th>\n",
       "      <td>spam</td>\n",
       "      <td>Free entry in 2 a wkly comp to win FA Cup fina...</td>\n",
       "      <td>1</td>\n",
       "      <td>1</td>\n",
       "      <td>free entry 2 wkly comp win fa cup final tkts 2...</td>\n",
       "      <td>free entry 2 wkly comp win fa cup final tkts 2...</td>\n",
       "    </tr>\n",
       "    <tr>\n",
       "      <th>3</th>\n",
       "      <td>ham</td>\n",
       "      <td>U dun say so early hor... U c already then say...</td>\n",
       "      <td>0</td>\n",
       "      <td>0</td>\n",
       "      <td>u dun early hor u c</td>\n",
       "      <td>u dun early hor u c</td>\n",
       "    </tr>\n",
       "    <tr>\n",
       "      <th>4</th>\n",
       "      <td>ham</td>\n",
       "      <td>Nah I don't think he goes to usf, he lives aro...</td>\n",
       "      <td>0</td>\n",
       "      <td>0</td>\n",
       "      <td>nah think goes usf lives</td>\n",
       "      <td>nah think go usf live</td>\n",
       "    </tr>\n",
       "  </tbody>\n",
       "</table>\n",
       "</div>"
      ],
      "text/plain": [
       "  label                                                sms  contains_free  \\\n",
       "0   ham  Go until jurong point, crazy.. Available only ...              0   \n",
       "1   ham                      Ok lar... Joking wif u oni...              0   \n",
       "2  spam  Free entry in 2 a wkly comp to win FA Cup fina...              1   \n",
       "3   ham  U dun say so early hor... U c already then say...              0   \n",
       "4   ham  Nah I don't think he goes to usf, he lives aro...              0   \n",
       "\n",
       "   binaryLabel                                           sms_trim  \\\n",
       "0            0  jurong point crazy available bugis n great wor...   \n",
       "1            0                            ok lar joking wif u oni   \n",
       "2            1  free entry 2 wkly comp win fa cup final tkts 2...   \n",
       "3            0                                u dun early hor u c   \n",
       "4            0                           nah think goes usf lives   \n",
       "\n",
       "                                      sms_trim_lemma  \n",
       "0  jurong point crazy available bugis n great wor...  \n",
       "1                              ok lar joke wif u oni  \n",
       "2  free entry 2 wkly comp win fa cup final tkts 2...  \n",
       "3                                u dun early hor u c  \n",
       "4                              nah think go usf live  "
      ]
     },
     "execution_count": 11,
     "metadata": {},
     "output_type": "execute_result"
    }
   ],
   "source": [
    "spam['sms_trim'] = spam['sms'].apply(msg_process)\n",
    "spam['sms_trim_lemma'] = spam['sms'].apply(lambda x: msg_process(x,toStem = True))\n",
    "\n",
    "spam.head()"
   ]
  },
  {
   "cell_type": "code",
   "execution_count": 12,
   "id": "a4c2028a",
   "metadata": {
    "execution": {
     "iopub.execute_input": "2023-06-30T04:17:09.397578Z",
     "iopub.status.busy": "2023-06-30T04:17:09.396329Z",
     "iopub.status.idle": "2023-06-30T04:17:09.555465Z",
     "shell.execute_reply": "2023-06-30T04:17:09.554422Z"
    },
    "papermill": {
     "duration": 0.170759,
     "end_time": "2023-06-30T04:17:09.558118",
     "exception": false,
     "start_time": "2023-06-30T04:17:09.387359",
     "status": "completed"
    },
    "tags": []
   },
   "outputs": [],
   "source": [
    "from sklearn.feature_extraction.text import TfidfVectorizer, CountVectorizer\n",
    "\n",
    "# to transform text into matrix of TF-IDF\n",
    "tfidf = TfidfVectorizer(decode_error='ignore')\n",
    "\n",
    "countVector = CountVectorizer(decode_error='ignore')"
   ]
  },
  {
   "cell_type": "code",
   "execution_count": 13,
   "id": "a0c81156",
   "metadata": {
    "execution": {
     "iopub.execute_input": "2023-06-30T04:17:09.575955Z",
     "iopub.status.busy": "2023-06-30T04:17:09.575573Z",
     "iopub.status.idle": "2023-06-30T04:17:09.716289Z",
     "shell.execute_reply": "2023-06-30T04:17:09.715349Z"
    },
    "papermill": {
     "duration": 0.152123,
     "end_time": "2023-06-30T04:17:09.718540",
     "exception": false,
     "start_time": "2023-06-30T04:17:09.566417",
     "status": "completed"
    },
    "tags": []
   },
   "outputs": [],
   "source": [
    "# both of these are sparse matrices where each row represents a document \n",
    "# (sms_trim/sms_trim_lemma) and each column represents a unique term in the corpus\n",
    "# The values in the matrices represent the TF-IDF weights of the terms in the corresponding documents.\n",
    "\n",
    "x_tfidf = tfidf.fit_transform(spam['sms_trim'])\n",
    "x_tfidf_lemma = tfidf.fit_transform(spam['sms_trim_lemma'])"
   ]
  },
  {
   "cell_type": "code",
   "execution_count": 14,
   "id": "3c5dba4f",
   "metadata": {
    "execution": {
     "iopub.execute_input": "2023-06-30T04:17:09.736429Z",
     "iopub.status.busy": "2023-06-30T04:17:09.736125Z",
     "iopub.status.idle": "2023-06-30T04:17:09.743183Z",
     "shell.execute_reply": "2023-06-30T04:17:09.742020Z"
    },
    "papermill": {
     "duration": 0.017799,
     "end_time": "2023-06-30T04:17:09.745019",
     "exception": false,
     "start_time": "2023-06-30T04:17:09.727220",
     "status": "completed"
    },
    "tags": []
   },
   "outputs": [
    {
     "data": {
      "text/plain": [
       "array([0, 0, 1, ..., 0, 0, 0])"
      ]
     },
     "execution_count": 14,
     "metadata": {},
     "output_type": "execute_result"
    }
   ],
   "source": [
    "binaryLabelArray = spam['binaryLabel'].values\n",
    "binaryLabelArray"
   ]
  },
  {
   "cell_type": "code",
   "execution_count": 15,
   "id": "fc68f761",
   "metadata": {
    "execution": {
     "iopub.execute_input": "2023-06-30T04:17:09.762791Z",
     "iopub.status.busy": "2023-06-30T04:17:09.762478Z",
     "iopub.status.idle": "2023-06-30T04:17:09.875860Z",
     "shell.execute_reply": "2023-06-30T04:17:09.874499Z"
    },
    "papermill": {
     "duration": 0.124941,
     "end_time": "2023-06-30T04:17:09.878110",
     "exception": false,
     "start_time": "2023-06-30T04:17:09.753169",
     "status": "completed"
    },
    "tags": []
   },
   "outputs": [
    {
     "name": "stdout",
     "output_type": "stream",
     "text": [
      "hello\n"
     ]
    }
   ],
   "source": [
    "from sklearn.model_selection import train_test_split\n",
    "\n",
    "# training model based on 80-20 split - 80 percent data for training, 20 percent for testing as suggested \n",
    "# on stackoverflow: https://stackoverflow.com/questions/13610074/is-there-a-rule-of-thumb-for-how-to-divide-a-dataset-into-training-and-validatio\n",
    "\n",
    "# random state is usually 42 everywhere but I put my lucky num 3\n",
    "x_train_termFreq, x_test_termFreq, y_train_termFreq, y_test_termFreq = train_test_split(\n",
    "    x_tfidf, binaryLabelArray,test_size=0.2,random_state=3)\n",
    "\n",
    "# training on the lemmatized data\n",
    "x_train_lemma, x_test_lemma, y_train_lemma, y_test_lemma = train_test_split(\n",
    "    x_tfidf_lemma, binaryLabelArray,test_size=0.2,random_state=3)\n",
    "\n",
    "print(\"hello\")"
   ]
  },
  {
   "cell_type": "code",
   "execution_count": 16,
   "id": "099a6aca",
   "metadata": {
    "execution": {
     "iopub.execute_input": "2023-06-30T04:17:09.895989Z",
     "iopub.status.busy": "2023-06-30T04:17:09.895634Z",
     "iopub.status.idle": "2023-06-30T04:17:10.154153Z",
     "shell.execute_reply": "2023-06-30T04:17:10.152789Z"
    },
    "papermill": {
     "duration": 0.269614,
     "end_time": "2023-06-30T04:17:10.156286",
     "exception": false,
     "start_time": "2023-06-30T04:17:09.886672",
     "status": "completed"
    },
    "tags": []
   },
   "outputs": [],
   "source": [
    "# Using 3 different algorithms and comparing results\n",
    "\n",
    "from sklearn.linear_model import LogisticRegression\n",
    "from sklearn.naive_bayes import MultinomialNB\n",
    "from sklearn.tree import DecisionTreeClassifier\n",
    "\n",
    "algoArray = [LogisticRegression(random_state=3),\n",
    "            MultinomialNB(),\n",
    "            DecisionTreeClassifier(random_state=3)]"
   ]
  },
  {
   "cell_type": "code",
   "execution_count": 17,
   "id": "80d27de1",
   "metadata": {
    "execution": {
     "iopub.execute_input": "2023-06-30T04:17:10.174623Z",
     "iopub.status.busy": "2023-06-30T04:17:10.174297Z",
     "iopub.status.idle": "2023-06-30T04:17:10.179487Z",
     "shell.execute_reply": "2023-06-30T04:17:10.178556Z"
    },
    "papermill": {
     "duration": 0.016219,
     "end_time": "2023-06-30T04:17:10.181266",
     "exception": false,
     "start_time": "2023-06-30T04:17:10.165047",
     "status": "completed"
    },
    "tags": []
   },
   "outputs": [],
   "source": [
    "# method to train the data on each of the algos, and get accuracy on the testing set\n",
    "\n",
    "from sklearn.metrics import accuracy_score\n",
    "\n",
    "def trainAlgo(algo, x_train, x_test, y_train, y_test):\n",
    "    \n",
    "    # train the algo on the training data\n",
    "    algo.fit(x_train, y_train)\n",
    "    \n",
    "    #predict the testing data\n",
    "    pred = algo.predict(x_test)\n",
    "    \n",
    "    # compare the predicted and actual data and get accuracy score of algo\n",
    "    return accuracy_score(pred, y_test)"
   ]
  },
  {
   "cell_type": "code",
   "execution_count": 18,
   "id": "be068d43",
   "metadata": {
    "execution": {
     "iopub.execute_input": "2023-06-30T04:17:10.199976Z",
     "iopub.status.busy": "2023-06-30T04:17:10.199654Z",
     "iopub.status.idle": "2023-06-30T04:17:10.508687Z",
     "shell.execute_reply": "2023-06-30T04:17:10.507689Z"
    },
    "papermill": {
     "duration": 0.32085,
     "end_time": "2023-06-30T04:17:10.510912",
     "exception": false,
     "start_time": "2023-06-30T04:17:10.190062",
     "status": "completed"
    },
    "tags": []
   },
   "outputs": [
    {
     "data": {
      "text/html": [
       "<div>\n",
       "<style scoped>\n",
       "    .dataframe tbody tr th:only-of-type {\n",
       "        vertical-align: middle;\n",
       "    }\n",
       "\n",
       "    .dataframe tbody tr th {\n",
       "        vertical-align: top;\n",
       "    }\n",
       "\n",
       "    .dataframe thead th {\n",
       "        text-align: right;\n",
       "    }\n",
       "</style>\n",
       "<table border=\"1\" class=\"dataframe\">\n",
       "  <thead>\n",
       "    <tr style=\"text-align: right;\">\n",
       "      <th></th>\n",
       "      <th>Term Freq Score</th>\n",
       "    </tr>\n",
       "  </thead>\n",
       "  <tbody>\n",
       "    <tr>\n",
       "      <th>LogisticRegression</th>\n",
       "      <td>0.947982</td>\n",
       "    </tr>\n",
       "    <tr>\n",
       "      <th>MultinomialNB</th>\n",
       "      <td>0.971300</td>\n",
       "    </tr>\n",
       "    <tr>\n",
       "      <th>DecisionTreeClassifier</th>\n",
       "      <td>0.970404</td>\n",
       "    </tr>\n",
       "  </tbody>\n",
       "</table>\n",
       "</div>"
      ],
      "text/plain": [
       "                        Term Freq Score\n",
       "LogisticRegression             0.947982\n",
       "MultinomialNB                  0.971300\n",
       "DecisionTreeClassifier         0.970404"
      ]
     },
     "execution_count": 18,
     "metadata": {},
     "output_type": "execute_result"
    }
   ],
   "source": [
    "algoNames = []\n",
    "termFreqScores = []\n",
    "\n",
    "for algo in algoArray:\n",
    "    algoNames.append(algo.__class__.__name__)\n",
    "    termFreqScores.append(trainAlgo(algo, x_train_termFreq, x_test_termFreq, y_train_termFreq, y_test_termFreq))\n",
    "    df = pd.DataFrame(index = algoNames, data = termFreqScores, columns=['Term Freq Score'])\n",
    "\n",
    "df"
   ]
  },
  {
   "cell_type": "code",
   "execution_count": 19,
   "id": "5452eb41",
   "metadata": {
    "execution": {
     "iopub.execute_input": "2023-06-30T04:17:10.528805Z",
     "iopub.status.busy": "2023-06-30T04:17:10.528500Z",
     "iopub.status.idle": "2023-06-30T04:17:10.832518Z",
     "shell.execute_reply": "2023-06-30T04:17:10.831805Z"
    },
    "papermill": {
     "duration": 0.314794,
     "end_time": "2023-06-30T04:17:10.834173",
     "exception": false,
     "start_time": "2023-06-30T04:17:10.519379",
     "status": "completed"
    },
    "tags": []
   },
   "outputs": [
    {
     "data": {
      "text/html": [
       "<div>\n",
       "<style scoped>\n",
       "    .dataframe tbody tr th:only-of-type {\n",
       "        vertical-align: middle;\n",
       "    }\n",
       "\n",
       "    .dataframe tbody tr th {\n",
       "        vertical-align: top;\n",
       "    }\n",
       "\n",
       "    .dataframe thead th {\n",
       "        text-align: right;\n",
       "    }\n",
       "</style>\n",
       "<table border=\"1\" class=\"dataframe\">\n",
       "  <thead>\n",
       "    <tr style=\"text-align: right;\">\n",
       "      <th></th>\n",
       "      <th>Term Freq Lemma Score</th>\n",
       "    </tr>\n",
       "  </thead>\n",
       "  <tbody>\n",
       "    <tr>\n",
       "      <th>LogisticRegression</th>\n",
       "      <td>0.950673</td>\n",
       "    </tr>\n",
       "    <tr>\n",
       "      <th>MultinomialNB</th>\n",
       "      <td>0.968610</td>\n",
       "    </tr>\n",
       "    <tr>\n",
       "      <th>DecisionTreeClassifier</th>\n",
       "      <td>0.971300</td>\n",
       "    </tr>\n",
       "  </tbody>\n",
       "</table>\n",
       "</div>"
      ],
      "text/plain": [
       "                        Term Freq Lemma Score\n",
       "LogisticRegression                   0.950673\n",
       "MultinomialNB                        0.968610\n",
       "DecisionTreeClassifier               0.971300"
      ]
     },
     "execution_count": 19,
     "metadata": {},
     "output_type": "execute_result"
    }
   ],
   "source": [
    "algoNames = []\n",
    "termFreqLemmaScores = []\n",
    "\n",
    "for algo in algoArray:\n",
    "    algoNames.append(algo.__class__.__name__)\n",
    "    termFreqLemmaScores.append(trainAlgo(algo, x_train_lemma, x_test_lemma, y_train_lemma, y_test_lemma))\n",
    "    df_termFreq_lemma = pd.DataFrame(index = algoNames, data = termFreqLemmaScores, columns=['Term Freq Lemma Score'])\n",
    "\n",
    "termFreqLemmaScores\n",
    "df_termFreq_lemma\n",
    "\n",
    "# we notice that MNB and DTC have higher scores than Logistic Regression in general"
   ]
  },
  {
   "cell_type": "code",
   "execution_count": 20,
   "id": "5041302c",
   "metadata": {
    "execution": {
     "iopub.execute_input": "2023-06-30T04:17:10.853035Z",
     "iopub.status.busy": "2023-06-30T04:17:10.852515Z",
     "iopub.status.idle": "2023-06-30T04:17:10.856879Z",
     "shell.execute_reply": "2023-06-30T04:17:10.855612Z"
    },
    "papermill": {
     "duration": 0.015609,
     "end_time": "2023-06-30T04:17:10.858605",
     "exception": false,
     "start_time": "2023-06-30T04:17:10.842996",
     "status": "completed"
    },
    "tags": []
   },
   "outputs": [],
   "source": [
    "# Now I am going to try to train and test data based on count vectorizing, instead of TF-IDF"
   ]
  },
  {
   "cell_type": "code",
   "execution_count": 21,
   "id": "08ac0385",
   "metadata": {
    "execution": {
     "iopub.execute_input": "2023-06-30T04:17:10.877137Z",
     "iopub.status.busy": "2023-06-30T04:17:10.876793Z",
     "iopub.status.idle": "2023-06-30T04:17:10.994213Z",
     "shell.execute_reply": "2023-06-30T04:17:10.993081Z"
    },
    "papermill": {
     "duration": 0.129152,
     "end_time": "2023-06-30T04:17:10.996548",
     "exception": false,
     "start_time": "2023-06-30T04:17:10.867396",
     "status": "completed"
    },
    "tags": []
   },
   "outputs": [],
   "source": [
    "# both of these are sparse matrices where each row represents a document \n",
    "# (sms_trim/sms_trim_lemma) and each column represents a unique term in the corpus\n",
    "# The values in the matrices represent simply the frequency of these terms respective to the document\n",
    "\n",
    "x_countVec = countVector.fit_transform(spam['sms_trim'])\n",
    "x_countVec_lemma = countVector.fit_transform(spam['sms_trim_lemma'])"
   ]
  },
  {
   "cell_type": "code",
   "execution_count": 22,
   "id": "5efe3d19",
   "metadata": {
    "execution": {
     "iopub.execute_input": "2023-06-30T04:17:11.017174Z",
     "iopub.status.busy": "2023-06-30T04:17:11.016809Z",
     "iopub.status.idle": "2023-06-30T04:17:11.025289Z",
     "shell.execute_reply": "2023-06-30T04:17:11.024480Z"
    },
    "papermill": {
     "duration": 0.021286,
     "end_time": "2023-06-30T04:17:11.027791",
     "exception": false,
     "start_time": "2023-06-30T04:17:11.006505",
     "status": "completed"
    },
    "tags": []
   },
   "outputs": [],
   "source": [
    "x_train_countVec, x_test_countVec, y_train_countVec, y_test_countVec = train_test_split(\n",
    "    x_countVec, binaryLabelArray,test_size=0.2,random_state=3)\n",
    "\n",
    "# training on the lemmatized data\n",
    "x_train_countVec_lemma, x_test_countVec_lemma, y_train_countVec_lemma, y_test_countVec_lemma = train_test_split(\n",
    "    x_countVec_lemma, binaryLabelArray,test_size=0.2,random_state=3)"
   ]
  },
  {
   "cell_type": "code",
   "execution_count": 23,
   "id": "289fcb7a",
   "metadata": {
    "execution": {
     "iopub.execute_input": "2023-06-30T04:17:11.047169Z",
     "iopub.status.busy": "2023-06-30T04:17:11.046854Z",
     "iopub.status.idle": "2023-06-30T04:17:11.052831Z",
     "shell.execute_reply": "2023-06-30T04:17:11.051726Z"
    },
    "papermill": {
     "duration": 0.018274,
     "end_time": "2023-06-30T04:17:11.055277",
     "exception": false,
     "start_time": "2023-06-30T04:17:11.037003",
     "status": "completed"
    },
    "tags": []
   },
   "outputs": [
    {
     "data": {
      "text/plain": [
       "['LogisticRegression', 'MultinomialNB', 'DecisionTreeClassifier']"
      ]
     },
     "execution_count": 23,
     "metadata": {},
     "output_type": "execute_result"
    }
   ],
   "source": [
    "algoNames"
   ]
  },
  {
   "cell_type": "code",
   "execution_count": 24,
   "id": "cb5fe17a",
   "metadata": {
    "execution": {
     "iopub.execute_input": "2023-06-30T04:17:11.076257Z",
     "iopub.status.busy": "2023-06-30T04:17:11.075919Z",
     "iopub.status.idle": "2023-06-30T04:17:11.319808Z",
     "shell.execute_reply": "2023-06-30T04:17:11.318521Z"
    },
    "papermill": {
     "duration": 0.257298,
     "end_time": "2023-06-30T04:17:11.321774",
     "exception": false,
     "start_time": "2023-06-30T04:17:11.064476",
     "status": "completed"
    },
    "tags": []
   },
   "outputs": [
    {
     "data": {
      "text/html": [
       "<div>\n",
       "<style scoped>\n",
       "    .dataframe tbody tr th:only-of-type {\n",
       "        vertical-align: middle;\n",
       "    }\n",
       "\n",
       "    .dataframe tbody tr th {\n",
       "        vertical-align: top;\n",
       "    }\n",
       "\n",
       "    .dataframe thead th {\n",
       "        text-align: right;\n",
       "    }\n",
       "</style>\n",
       "<table border=\"1\" class=\"dataframe\">\n",
       "  <thead>\n",
       "    <tr style=\"text-align: right;\">\n",
       "      <th></th>\n",
       "      <th>Count Vector Score</th>\n",
       "    </tr>\n",
       "  </thead>\n",
       "  <tbody>\n",
       "    <tr>\n",
       "      <th>LogisticRegression</th>\n",
       "      <td>0.977578</td>\n",
       "    </tr>\n",
       "    <tr>\n",
       "      <th>MultinomialNB</th>\n",
       "      <td>0.976682</td>\n",
       "    </tr>\n",
       "    <tr>\n",
       "      <th>DecisionTreeClassifier</th>\n",
       "      <td>0.972197</td>\n",
       "    </tr>\n",
       "  </tbody>\n",
       "</table>\n",
       "</div>"
      ],
      "text/plain": [
       "                        Count Vector Score\n",
       "LogisticRegression                0.977578\n",
       "MultinomialNB                     0.976682\n",
       "DecisionTreeClassifier            0.972197"
      ]
     },
     "execution_count": 24,
     "metadata": {},
     "output_type": "execute_result"
    }
   ],
   "source": [
    "# testing with count vectorizer and non-lemmatized\n",
    "\n",
    "algoNames = []\n",
    "algoNames\n",
    "countVecScores = []\n",
    "\n",
    "for algo in algoArray:\n",
    "    algoNames.append(algo.__class__.__name__)\n",
    "    countVecScores.append(trainAlgo(algo, x_train_countVec, x_test_countVec, y_train_countVec, y_test_countVec))\n",
    "    df_countVec = pd.DataFrame(index = algoNames, data = countVecScores, columns=['Count Vector Score'])\n",
    "\n",
    "df_countVec"
   ]
  },
  {
   "cell_type": "code",
   "execution_count": 25,
   "id": "3e91c4f3",
   "metadata": {
    "execution": {
     "iopub.execute_input": "2023-06-30T04:17:11.341601Z",
     "iopub.status.busy": "2023-06-30T04:17:11.341224Z",
     "iopub.status.idle": "2023-06-30T04:17:11.564144Z",
     "shell.execute_reply": "2023-06-30T04:17:11.563198Z"
    },
    "papermill": {
     "duration": 0.235219,
     "end_time": "2023-06-30T04:17:11.566020",
     "exception": false,
     "start_time": "2023-06-30T04:17:11.330801",
     "status": "completed"
    },
    "tags": []
   },
   "outputs": [
    {
     "data": {
      "text/html": [
       "<div>\n",
       "<style scoped>\n",
       "    .dataframe tbody tr th:only-of-type {\n",
       "        vertical-align: middle;\n",
       "    }\n",
       "\n",
       "    .dataframe tbody tr th {\n",
       "        vertical-align: top;\n",
       "    }\n",
       "\n",
       "    .dataframe thead th {\n",
       "        text-align: right;\n",
       "    }\n",
       "</style>\n",
       "<table border=\"1\" class=\"dataframe\">\n",
       "  <thead>\n",
       "    <tr style=\"text-align: right;\">\n",
       "      <th></th>\n",
       "      <th>Count Vector Lemma Score</th>\n",
       "    </tr>\n",
       "  </thead>\n",
       "  <tbody>\n",
       "    <tr>\n",
       "      <th>LogisticRegression</th>\n",
       "      <td>0.979372</td>\n",
       "    </tr>\n",
       "    <tr>\n",
       "      <th>MultinomialNB</th>\n",
       "      <td>0.982960</td>\n",
       "    </tr>\n",
       "    <tr>\n",
       "      <th>DecisionTreeClassifier</th>\n",
       "      <td>0.967713</td>\n",
       "    </tr>\n",
       "  </tbody>\n",
       "</table>\n",
       "</div>"
      ],
      "text/plain": [
       "                        Count Vector Lemma Score\n",
       "LogisticRegression                      0.979372\n",
       "MultinomialNB                           0.982960\n",
       "DecisionTreeClassifier                  0.967713"
      ]
     },
     "execution_count": 25,
     "metadata": {},
     "output_type": "execute_result"
    }
   ],
   "source": [
    "# testing with count vectorizer and lemmatized\n",
    "\n",
    "algoNames = []\n",
    "countVecLemmaScores = []\n",
    "\n",
    "for algo in algoArray:\n",
    "    algoNames.append(algo.__class__.__name__)\n",
    "    countVecLemmaScores.append(trainAlgo(algo, x_train_countVec_lemma, x_test_countVec_lemma, \n",
    "                                         y_train_countVec_lemma, y_test_countVec_lemma))\n",
    "    df_countVec_Lemma = pd.DataFrame(index = algoNames, data = countVecLemmaScores, columns=['Count Vector Lemma Score'])\n",
    "\n",
    "df_countVec_Lemma"
   ]
  },
  {
   "cell_type": "code",
   "execution_count": 26,
   "id": "de28d446",
   "metadata": {
    "execution": {
     "iopub.execute_input": "2023-06-30T04:17:11.585807Z",
     "iopub.status.busy": "2023-06-30T04:17:11.585437Z",
     "iopub.status.idle": "2023-06-30T04:17:11.589833Z",
     "shell.execute_reply": "2023-06-30T04:17:11.588506Z"
    },
    "papermill": {
     "duration": 0.0168,
     "end_time": "2023-06-30T04:17:11.591960",
     "exception": false,
     "start_time": "2023-06-30T04:17:11.575160",
     "status": "completed"
    },
    "tags": []
   },
   "outputs": [],
   "source": [
    "# we can see the count vectorized data has much higher scores"
   ]
  },
  {
   "cell_type": "code",
   "execution_count": 27,
   "id": "a3e2d2c2",
   "metadata": {
    "execution": {
     "iopub.execute_input": "2023-06-30T04:17:11.611662Z",
     "iopub.status.busy": "2023-06-30T04:17:11.611307Z",
     "iopub.status.idle": "2023-06-30T04:17:11.625527Z",
     "shell.execute_reply": "2023-06-30T04:17:11.624476Z"
    },
    "papermill": {
     "duration": 0.026756,
     "end_time": "2023-06-30T04:17:11.627893",
     "exception": false,
     "start_time": "2023-06-30T04:17:11.601137",
     "status": "completed"
    },
    "tags": []
   },
   "outputs": [
    {
     "data": {
      "text/html": [
       "<div>\n",
       "<style scoped>\n",
       "    .dataframe tbody tr th:only-of-type {\n",
       "        vertical-align: middle;\n",
       "    }\n",
       "\n",
       "    .dataframe tbody tr th {\n",
       "        vertical-align: top;\n",
       "    }\n",
       "\n",
       "    .dataframe thead th {\n",
       "        text-align: right;\n",
       "    }\n",
       "</style>\n",
       "<table border=\"1\" class=\"dataframe\">\n",
       "  <thead>\n",
       "    <tr style=\"text-align: right;\">\n",
       "      <th></th>\n",
       "      <th>Term Freq Score</th>\n",
       "      <th>Term Freq Lemma Score</th>\n",
       "      <th>Count Vector Score</th>\n",
       "      <th>Count Vector Lemma Score</th>\n",
       "    </tr>\n",
       "  </thead>\n",
       "  <tbody>\n",
       "    <tr>\n",
       "      <th>LogisticRegression</th>\n",
       "      <td>0.947982</td>\n",
       "      <td>0.950673</td>\n",
       "      <td>0.977578</td>\n",
       "      <td>0.979372</td>\n",
       "    </tr>\n",
       "    <tr>\n",
       "      <th>MultinomialNB</th>\n",
       "      <td>0.971300</td>\n",
       "      <td>0.968610</td>\n",
       "      <td>0.976682</td>\n",
       "      <td>0.982960</td>\n",
       "    </tr>\n",
       "    <tr>\n",
       "      <th>DecisionTreeClassifier</th>\n",
       "      <td>0.970404</td>\n",
       "      <td>0.971300</td>\n",
       "      <td>0.972197</td>\n",
       "      <td>0.967713</td>\n",
       "    </tr>\n",
       "  </tbody>\n",
       "</table>\n",
       "</div>"
      ],
      "text/plain": [
       "                        Term Freq Score  Term Freq Lemma Score  \\\n",
       "LogisticRegression             0.947982               0.950673   \n",
       "MultinomialNB                  0.971300               0.968610   \n",
       "DecisionTreeClassifier         0.970404               0.971300   \n",
       "\n",
       "                        Count Vector Score  Count Vector Lemma Score  \n",
       "LogisticRegression                0.977578                  0.979372  \n",
       "MultinomialNB                     0.976682                  0.982960  \n",
       "DecisionTreeClassifier            0.972197                  0.967713  "
      ]
     },
     "execution_count": 27,
     "metadata": {},
     "output_type": "execute_result"
    }
   ],
   "source": [
    "allScores = pd.concat([df, df_termFreq_lemma, df_countVec, df_countVec_Lemma], axis = 1)\n",
    "allScores"
   ]
  },
  {
   "cell_type": "code",
   "execution_count": 28,
   "id": "0cd9e466",
   "metadata": {
    "execution": {
     "iopub.execute_input": "2023-06-30T04:17:11.648921Z",
     "iopub.status.busy": "2023-06-30T04:17:11.648434Z",
     "iopub.status.idle": "2023-06-30T04:17:11.656400Z",
     "shell.execute_reply": "2023-06-30T04:17:11.655226Z"
    },
    "papermill": {
     "duration": 0.021123,
     "end_time": "2023-06-30T04:17:11.658663",
     "exception": false,
     "start_time": "2023-06-30T04:17:11.637540",
     "status": "completed"
    },
    "tags": []
   },
   "outputs": [
    {
     "data": {
      "text/plain": [
       "Term Freq Score             0.971300\n",
       "Term Freq Lemma Score       0.971300\n",
       "Count Vector Score          0.977578\n",
       "Count Vector Lemma Score    0.982960\n",
       "dtype: float64"
      ]
     },
     "execution_count": 28,
     "metadata": {},
     "output_type": "execute_result"
    }
   ],
   "source": [
    "allScores.max().sort_values(ascending=True)"
   ]
  },
  {
   "cell_type": "code",
   "execution_count": 29,
   "id": "2e100124",
   "metadata": {
    "execution": {
     "iopub.execute_input": "2023-06-30T04:17:11.679019Z",
     "iopub.status.busy": "2023-06-30T04:17:11.678657Z",
     "iopub.status.idle": "2023-06-30T04:17:11.682955Z",
     "shell.execute_reply": "2023-06-30T04:17:11.681969Z"
    },
    "papermill": {
     "duration": 0.016691,
     "end_time": "2023-06-30T04:17:11.685038",
     "exception": false,
     "start_time": "2023-06-30T04:17:11.668347",
     "status": "completed"
    },
    "tags": []
   },
   "outputs": [],
   "source": [
    "# As we can see, the best scores were obtained by Count Vectorizer with lemmatization, trained, fit and tested\n",
    "# on the Multinomial Naive-Bayes Algorithm: 98.3 %"
   ]
  }
 ],
 "metadata": {
  "kernelspec": {
   "display_name": "Python 3",
   "language": "python",
   "name": "python3"
  },
  "language_info": {
   "codemirror_mode": {
    "name": "ipython",
    "version": 3
   },
   "file_extension": ".py",
   "mimetype": "text/x-python",
   "name": "python",
   "nbconvert_exporter": "python",
   "pygments_lexer": "ipython3",
   "version": "3.10.10"
  },
  "papermill": {
   "default_parameters": {},
   "duration": 109.253659,
   "end_time": "2023-06-30T04:17:14.648829",
   "environment_variables": {},
   "exception": null,
   "input_path": "__notebook__.ipynb",
   "output_path": "__notebook__.ipynb",
   "parameters": {},
   "start_time": "2023-06-30T04:15:25.395170",
   "version": "2.4.0"
  }
 },
 "nbformat": 4,
 "nbformat_minor": 5
}
