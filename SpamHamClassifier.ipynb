{
 "cells": [
  {
   "cell_type": "code",
   "execution_count": 1,
   "id": "c572a5c1",
   "metadata": {
    "_cell_guid": "b1076dfc-b9ad-4769-8c92-a6c4dae69d19",
    "_uuid": "8f2839f25d086af736a60e9eeb907d3b93b6e0e5",
    "execution": {
     "iopub.execute_input": "2023-07-01T07:10:50.275842Z",
     "iopub.status.busy": "2023-07-01T07:10:50.275368Z",
     "iopub.status.idle": "2023-07-01T07:10:50.298332Z",
     "shell.execute_reply": "2023-07-01T07:10:50.297348Z"
    },
    "papermill": {
     "duration": 0.043541,
     "end_time": "2023-07-01T07:10:50.301343",
     "exception": false,
     "start_time": "2023-07-01T07:10:50.257802",
     "status": "completed"
    },
    "tags": []
   },
   "outputs": [
    {
     "name": "stdout",
     "output_type": "stream",
     "text": [
      "/kaggle/input/sms-spam-collection-dataset/spam.csv\n"
     ]
    }
   ],
   "source": [
    "# This Python 3 environment comes with many helpful analytics libraries installed\n",
    "# It is defined by the kaggle/python Docker image: https://github.com/kaggle/docker-python\n",
    "# For example, here's several helpful packages to load\n",
    "\n",
    "import numpy as np # linear algebra\n",
    "import pandas as pd # data processing, CSV file I/O (e.g. pd.read_csv)\n",
    "\n",
    "# Input data files are available in the read-only \"../input/\" directory\n",
    "# For example, running this (by clicking run or pressing Shift+Enter) will list all files under the input directory\n",
    "\n",
    "import os\n",
    "for dirname, _, filenames in os.walk('/kaggle/input'):\n",
    "    for filename in filenames:\n",
    "        print(os.path.join(dirname, filename))\n",
    "\n",
    "# You can write up to 20GB to the current directory (/kaggle/working/) that gets preserved as output when you create a version using \"Save & Run All\" \n",
    "# You can also write temporary files to /kaggle/temp/, but they won't be saved outside of the current session"
   ]
  },
  {
   "cell_type": "code",
   "execution_count": 2,
   "id": "dc80c0ba",
   "metadata": {
    "execution": {
     "iopub.execute_input": "2023-07-01T07:10:50.327739Z",
     "iopub.status.busy": "2023-07-01T07:10:50.327006Z",
     "iopub.status.idle": "2023-07-01T07:10:51.961648Z",
     "shell.execute_reply": "2023-07-01T07:10:51.960122Z"
    },
    "papermill": {
     "duration": 1.650944,
     "end_time": "2023-07-01T07:10:51.964554",
     "exception": false,
     "start_time": "2023-07-01T07:10:50.313610",
     "status": "completed"
    },
    "tags": []
   },
   "outputs": [],
   "source": [
    "import pandas as pd\n",
    "import numpy as np\n",
    "import matplotlib.pyplot as plt\n",
    "import seaborn as sns\n",
    "\n",
    "%matplotlib inline"
   ]
  },
  {
   "cell_type": "code",
   "execution_count": 3,
   "id": "64e96626",
   "metadata": {
    "execution": {
     "iopub.execute_input": "2023-07-01T07:10:51.990074Z",
     "iopub.status.busy": "2023-07-01T07:10:51.989652Z",
     "iopub.status.idle": "2023-07-01T07:10:52.068411Z",
     "shell.execute_reply": "2023-07-01T07:10:52.067482Z"
    },
    "papermill": {
     "duration": 0.094525,
     "end_time": "2023-07-01T07:10:52.070903",
     "exception": false,
     "start_time": "2023-07-01T07:10:51.976378",
     "status": "completed"
    },
    "tags": []
   },
   "outputs": [
    {
     "name": "stdout",
     "output_type": "stream",
     "text": [
      "(5572, 5)\n"
     ]
    },
    {
     "data": {
      "text/html": [
       "<div>\n",
       "<style scoped>\n",
       "    .dataframe tbody tr th:only-of-type {\n",
       "        vertical-align: middle;\n",
       "    }\n",
       "\n",
       "    .dataframe tbody tr th {\n",
       "        vertical-align: top;\n",
       "    }\n",
       "\n",
       "    .dataframe thead th {\n",
       "        text-align: right;\n",
       "    }\n",
       "</style>\n",
       "<table border=\"1\" class=\"dataframe\">\n",
       "  <thead>\n",
       "    <tr style=\"text-align: right;\">\n",
       "      <th></th>\n",
       "      <th>v1</th>\n",
       "      <th>v2</th>\n",
       "      <th>Unnamed: 2</th>\n",
       "      <th>Unnamed: 3</th>\n",
       "      <th>Unnamed: 4</th>\n",
       "    </tr>\n",
       "  </thead>\n",
       "  <tbody>\n",
       "    <tr>\n",
       "      <th>0</th>\n",
       "      <td>ham</td>\n",
       "      <td>Go until jurong point, crazy.. Available only ...</td>\n",
       "      <td>NaN</td>\n",
       "      <td>NaN</td>\n",
       "      <td>NaN</td>\n",
       "    </tr>\n",
       "    <tr>\n",
       "      <th>1</th>\n",
       "      <td>ham</td>\n",
       "      <td>Ok lar... Joking wif u oni...</td>\n",
       "      <td>NaN</td>\n",
       "      <td>NaN</td>\n",
       "      <td>NaN</td>\n",
       "    </tr>\n",
       "    <tr>\n",
       "      <th>2</th>\n",
       "      <td>spam</td>\n",
       "      <td>Free entry in 2 a wkly comp to win FA Cup fina...</td>\n",
       "      <td>NaN</td>\n",
       "      <td>NaN</td>\n",
       "      <td>NaN</td>\n",
       "    </tr>\n",
       "    <tr>\n",
       "      <th>3</th>\n",
       "      <td>ham</td>\n",
       "      <td>U dun say so early hor... U c already then say...</td>\n",
       "      <td>NaN</td>\n",
       "      <td>NaN</td>\n",
       "      <td>NaN</td>\n",
       "    </tr>\n",
       "    <tr>\n",
       "      <th>4</th>\n",
       "      <td>ham</td>\n",
       "      <td>Nah I don't think he goes to usf, he lives aro...</td>\n",
       "      <td>NaN</td>\n",
       "      <td>NaN</td>\n",
       "      <td>NaN</td>\n",
       "    </tr>\n",
       "  </tbody>\n",
       "</table>\n",
       "</div>"
      ],
      "text/plain": [
       "     v1                                                 v2 Unnamed: 2  \\\n",
       "0   ham  Go until jurong point, crazy.. Available only ...        NaN   \n",
       "1   ham                      Ok lar... Joking wif u oni...        NaN   \n",
       "2  spam  Free entry in 2 a wkly comp to win FA Cup fina...        NaN   \n",
       "3   ham  U dun say so early hor... U c already then say...        NaN   \n",
       "4   ham  Nah I don't think he goes to usf, he lives aro...        NaN   \n",
       "\n",
       "  Unnamed: 3 Unnamed: 4  \n",
       "0        NaN        NaN  \n",
       "1        NaN        NaN  \n",
       "2        NaN        NaN  \n",
       "3        NaN        NaN  \n",
       "4        NaN        NaN  "
      ]
     },
     "execution_count": 3,
     "metadata": {},
     "output_type": "execute_result"
    }
   ],
   "source": [
    "spam = pd.read_csv(\"../input/sms-spam-collection-dataset/spam.csv\", encoding='ISO-8859-1')\n",
    "\n",
    "print(spam.shape)\n",
    "spam.head()"
   ]
  },
  {
   "cell_type": "code",
   "execution_count": 4,
   "id": "f8acccfa",
   "metadata": {
    "execution": {
     "iopub.execute_input": "2023-07-01T07:10:52.098722Z",
     "iopub.status.busy": "2023-07-01T07:10:52.097455Z",
     "iopub.status.idle": "2023-07-01T07:10:52.110241Z",
     "shell.execute_reply": "2023-07-01T07:10:52.109217Z"
    },
    "papermill": {
     "duration": 0.028825,
     "end_time": "2023-07-01T07:10:52.112521",
     "exception": false,
     "start_time": "2023-07-01T07:10:52.083696",
     "status": "completed"
    },
    "tags": []
   },
   "outputs": [
    {
     "name": "stdout",
     "output_type": "stream",
     "text": [
      "(5572, 2)\n"
     ]
    },
    {
     "data": {
      "text/html": [
       "<div>\n",
       "<style scoped>\n",
       "    .dataframe tbody tr th:only-of-type {\n",
       "        vertical-align: middle;\n",
       "    }\n",
       "\n",
       "    .dataframe tbody tr th {\n",
       "        vertical-align: top;\n",
       "    }\n",
       "\n",
       "    .dataframe thead th {\n",
       "        text-align: right;\n",
       "    }\n",
       "</style>\n",
       "<table border=\"1\" class=\"dataframe\">\n",
       "  <thead>\n",
       "    <tr style=\"text-align: right;\">\n",
       "      <th></th>\n",
       "      <th>label</th>\n",
       "      <th>sms</th>\n",
       "    </tr>\n",
       "  </thead>\n",
       "  <tbody>\n",
       "    <tr>\n",
       "      <th>0</th>\n",
       "      <td>ham</td>\n",
       "      <td>Go until jurong point, crazy.. Available only ...</td>\n",
       "    </tr>\n",
       "    <tr>\n",
       "      <th>1</th>\n",
       "      <td>ham</td>\n",
       "      <td>Ok lar... Joking wif u oni...</td>\n",
       "    </tr>\n",
       "    <tr>\n",
       "      <th>2</th>\n",
       "      <td>spam</td>\n",
       "      <td>Free entry in 2 a wkly comp to win FA Cup fina...</td>\n",
       "    </tr>\n",
       "    <tr>\n",
       "      <th>3</th>\n",
       "      <td>ham</td>\n",
       "      <td>U dun say so early hor... U c already then say...</td>\n",
       "    </tr>\n",
       "    <tr>\n",
       "      <th>4</th>\n",
       "      <td>ham</td>\n",
       "      <td>Nah I don't think he goes to usf, he lives aro...</td>\n",
       "    </tr>\n",
       "  </tbody>\n",
       "</table>\n",
       "</div>"
      ],
      "text/plain": [
       "  label                                                sms\n",
       "0   ham  Go until jurong point, crazy.. Available only ...\n",
       "1   ham                      Ok lar... Joking wif u oni...\n",
       "2  spam  Free entry in 2 a wkly comp to win FA Cup fina...\n",
       "3   ham  U dun say so early hor... U c already then say...\n",
       "4   ham  Nah I don't think he goes to usf, he lives aro..."
      ]
     },
     "execution_count": 4,
     "metadata": {},
     "output_type": "execute_result"
    }
   ],
   "source": [
    "# trim table to have only 2 columns: label (ham/spam), sms text\n",
    "spam=spam.iloc[:,:2]\n",
    "print(spam.shape)\n",
    "spam.columns=['label','sms']\n",
    "spam.head()"
   ]
  },
  {
   "cell_type": "code",
   "execution_count": 5,
   "id": "01dab86d",
   "metadata": {
    "execution": {
     "iopub.execute_input": "2023-07-01T07:10:52.142208Z",
     "iopub.status.busy": "2023-07-01T07:10:52.141419Z",
     "iopub.status.idle": "2023-07-01T07:10:52.170206Z",
     "shell.execute_reply": "2023-07-01T07:10:52.169070Z"
    },
    "papermill": {
     "duration": 0.045775,
     "end_time": "2023-07-01T07:10:52.172987",
     "exception": false,
     "start_time": "2023-07-01T07:10:52.127212",
     "status": "completed"
    },
    "tags": []
   },
   "outputs": [
    {
     "data": {
      "text/html": [
       "<div>\n",
       "<style scoped>\n",
       "    .dataframe tbody tr th:only-of-type {\n",
       "        vertical-align: middle;\n",
       "    }\n",
       "\n",
       "    .dataframe tbody tr th {\n",
       "        vertical-align: top;\n",
       "    }\n",
       "\n",
       "    .dataframe thead th {\n",
       "        text-align: right;\n",
       "    }\n",
       "</style>\n",
       "<table border=\"1\" class=\"dataframe\">\n",
       "  <thead>\n",
       "    <tr style=\"text-align: right;\">\n",
       "      <th></th>\n",
       "      <th>label</th>\n",
       "      <th>sms</th>\n",
       "    </tr>\n",
       "  </thead>\n",
       "  <tbody>\n",
       "    <tr>\n",
       "      <th>count</th>\n",
       "      <td>5572</td>\n",
       "      <td>5572</td>\n",
       "    </tr>\n",
       "    <tr>\n",
       "      <th>unique</th>\n",
       "      <td>2</td>\n",
       "      <td>5169</td>\n",
       "    </tr>\n",
       "    <tr>\n",
       "      <th>top</th>\n",
       "      <td>ham</td>\n",
       "      <td>Sorry, I'll call later</td>\n",
       "    </tr>\n",
       "    <tr>\n",
       "      <th>freq</th>\n",
       "      <td>4825</td>\n",
       "      <td>30</td>\n",
       "    </tr>\n",
       "  </tbody>\n",
       "</table>\n",
       "</div>"
      ],
      "text/plain": [
       "       label                     sms\n",
       "count   5572                    5572\n",
       "unique     2                    5169\n",
       "top      ham  Sorry, I'll call later\n",
       "freq    4825                      30"
      ]
     },
     "execution_count": 5,
     "metadata": {},
     "output_type": "execute_result"
    }
   ],
   "source": [
    "spam.describe()"
   ]
  },
  {
   "cell_type": "code",
   "execution_count": 6,
   "id": "49f0b97b",
   "metadata": {
    "execution": {
     "iopub.execute_input": "2023-07-01T07:10:52.200863Z",
     "iopub.status.busy": "2023-07-01T07:10:52.200415Z",
     "iopub.status.idle": "2023-07-01T07:10:52.557545Z",
     "shell.execute_reply": "2023-07-01T07:10:52.555732Z"
    },
    "papermill": {
     "duration": 0.374625,
     "end_time": "2023-07-01T07:10:52.560841",
     "exception": false,
     "start_time": "2023-07-01T07:10:52.186216",
     "status": "completed"
    },
    "tags": []
   },
   "outputs": [
    {
     "name": "stdout",
     "output_type": "stream",
     "text": [
      "     label                                                sms  contains_free\n",
      "0      ham  Go until jurong point, crazy.. Available only ...              0\n",
      "1      ham                      Ok lar... Joking wif u oni...              0\n",
      "2     spam  Free entry in 2 a wkly comp to win FA Cup fina...              1\n",
      "3      ham  U dun say so early hor... U c already then say...              0\n",
      "4      ham  Nah I don't think he goes to usf, he lives aro...              0\n",
      "...    ...                                                ...            ...\n",
      "5567  spam  This is the 2nd time we have tried 2 contact u...              0\n",
      "5568   ham              Will Ì_ b going to esplanade fr home?              0\n",
      "5569   ham  Pity, * was in mood for that. So...any other s...              0\n",
      "5570   ham  The guy did some bitching but I acted like i'd...              1\n",
      "5571   ham                         Rofl. Its true to its name              0\n",
      "\n",
      "[5572 rows x 3 columns]\n",
      "Number of spam messages containing 'free': 199\n",
      "Number of ham messages containing 'free': 66\n"
     ]
    }
   ],
   "source": [
    "spam['contains_free'] = 0\n",
    "\n",
    "spam_free = 0\n",
    "ham_free = 0\n",
    "\n",
    "for index, row in spam.iterrows():\n",
    "    if 'free' in row['sms'].lower():\n",
    "        spam.at[index, 'contains_free'] = 1\n",
    "        \n",
    "        if row['label'] == 'spam':\n",
    "            spam_free += 1\n",
    "        else:\n",
    "            ham_free += 1\n",
    "\n",
    "print(spam)\n",
    "print(\"Number of spam messages containing 'free':\", spam_free)\n",
    "print(\"Number of ham messages containing 'free':\", ham_free)\n",
    "\n",
    "# a lot more spam messages contain the word \"free\" -- as expected !"
   ]
  },
  {
   "cell_type": "code",
   "execution_count": 7,
   "id": "310d6d29",
   "metadata": {
    "execution": {
     "iopub.execute_input": "2023-07-01T07:10:52.589488Z",
     "iopub.status.busy": "2023-07-01T07:10:52.589080Z",
     "iopub.status.idle": "2023-07-01T07:11:27.082522Z",
     "shell.execute_reply": "2023-07-01T07:11:27.081119Z"
    },
    "papermill": {
     "duration": 34.511311,
     "end_time": "2023-07-01T07:11:27.085673",
     "exception": false,
     "start_time": "2023-07-01T07:10:52.574362",
     "status": "completed"
    },
    "tags": []
   },
   "outputs": [
    {
     "name": "stdout",
     "output_type": "stream",
     "text": [
      "Requirement already satisfied: tensorflow-io in /opt/conda/lib/python3.10/site-packages (0.31.0)\r\n",
      "Collecting tensorflow-io\r\n",
      "  Downloading tensorflow_io-0.32.0-cp310-cp310-manylinux_2_12_x86_64.manylinux2010_x86_64.whl (28.0 MB)\r\n",
      "\u001b[2K     \u001b[90m━━━━━━━━━━━━━━━━━━━━━━━━━━━━━━━━━━━━━━━━\u001b[0m \u001b[32m28.0/28.0 MB\u001b[0m \u001b[31m38.9 MB/s\u001b[0m eta \u001b[36m0:00:00\u001b[0m\r\n",
      "\u001b[?25hCollecting tensorflow-io-gcs-filesystem==0.32.0 (from tensorflow-io)\r\n",
      "  Downloading tensorflow_io_gcs_filesystem-0.32.0-cp310-cp310-manylinux_2_12_x86_64.manylinux2010_x86_64.whl (2.4 MB)\r\n",
      "\u001b[2K     \u001b[90m━━━━━━━━━━━━━━━━━━━━━━━━━━━━━━━━━━━━━━━━\u001b[0m \u001b[32m2.4/2.4 MB\u001b[0m \u001b[31m53.5 MB/s\u001b[0m eta \u001b[36m0:00:00\u001b[0m\r\n",
      "\u001b[?25hInstalling collected packages: tensorflow-io-gcs-filesystem, tensorflow-io\r\n",
      "  Attempting uninstall: tensorflow-io-gcs-filesystem\r\n",
      "    Found existing installation: tensorflow-io-gcs-filesystem 0.31.0\r\n",
      "    Uninstalling tensorflow-io-gcs-filesystem-0.31.0:\r\n",
      "      Successfully uninstalled tensorflow-io-gcs-filesystem-0.31.0\r\n",
      "  Attempting uninstall: tensorflow-io\r\n",
      "    Found existing installation: tensorflow-io 0.31.0\r\n",
      "    Uninstalling tensorflow-io-0.31.0:\r\n",
      "      Successfully uninstalled tensorflow-io-0.31.0\r\n",
      "Successfully installed tensorflow-io-0.32.0 tensorflow-io-gcs-filesystem-0.32.0\r\n",
      "\u001b[33mWARNING: Running pip as the 'root' user can result in broken permissions and conflicting behaviour with the system package manager. It is recommended to use a virtual environment instead: https://pip.pypa.io/warnings/venv\u001b[0m\u001b[33m\r\n",
      "\u001b[0mNote: you may need to restart the kernel to use updated packages.\n"
     ]
    }
   ],
   "source": [
    "# import nlp library and feed blog, comment, dataset\n",
    "%pip install --upgrade tensorflow-io\n",
    "\n",
    "import spacy\n",
    "nlp = spacy.load(\"en_core_web_sm\")\n"
   ]
  },
  {
   "cell_type": "code",
   "execution_count": 8,
   "id": "af19d16c",
   "metadata": {
    "execution": {
     "iopub.execute_input": "2023-07-01T07:11:27.119541Z",
     "iopub.status.busy": "2023-07-01T07:11:27.118734Z",
     "iopub.status.idle": "2023-07-01T07:11:27.127820Z",
     "shell.execute_reply": "2023-07-01T07:11:27.126319Z"
    },
    "papermill": {
     "duration": 0.030206,
     "end_time": "2023-07-01T07:11:27.131302",
     "exception": false,
     "start_time": "2023-07-01T07:11:27.101096",
     "status": "completed"
    },
    "tags": []
   },
   "outputs": [],
   "source": [
    "# define a function that converts messages to remove stop words, punctuations: for cleansing\n",
    "def msg_process(msg_text,toStem=False):\n",
    "    text = nlp(msg_text)\n",
    "    result = []\n",
    "    \n",
    "    \n",
    "    # iterate over each token as processed by nlp over the msg_text\n",
    "    for tkn in text:\n",
    "        \n",
    "        # check if the token is a punctuation and if it is a stop word (eg: a,an,the,..)\n",
    "        if not tkn.pos_ == 'PUNCT' and not tkn.is_stop:\n",
    "            \n",
    "            # if we want the msg to be stemmed, we do so\n",
    "            if toStem == True:\n",
    "                tkn = tkn.lemma_.lower()\n",
    "            else:\n",
    "                # spacy already has an attribute called lower_ !\n",
    "                tkn = tkn.lower_\n",
    "            \n",
    "            # we add the processed message to the result list\n",
    "            result.append(tkn)\n",
    "            \n",
    "    \n",
    "    # return the contents of the result list separated by a space\n",
    "    return ' '.join(result)"
   ]
  },
  {
   "cell_type": "code",
   "execution_count": 9,
   "id": "9b6e5a38",
   "metadata": {
    "execution": {
     "iopub.execute_input": "2023-07-01T07:11:27.164578Z",
     "iopub.status.busy": "2023-07-01T07:11:27.163385Z",
     "iopub.status.idle": "2023-07-01T07:11:27.204614Z",
     "shell.execute_reply": "2023-07-01T07:11:27.203288Z"
    },
    "papermill": {
     "duration": 0.061185,
     "end_time": "2023-07-01T07:11:27.207552",
     "exception": false,
     "start_time": "2023-07-01T07:11:27.146367",
     "status": "completed"
    },
    "tags": []
   },
   "outputs": [
    {
     "data": {
      "text/plain": [
       "'hello da water raining'"
      ]
     },
     "execution_count": 9,
     "metadata": {},
     "output_type": "execute_result"
    }
   ],
   "source": [
    "msg_process('HELLO i am under da water here too much raining ',toStem=True)"
   ]
  },
  {
   "cell_type": "code",
   "execution_count": 10,
   "id": "e7dc114e",
   "metadata": {
    "execution": {
     "iopub.execute_input": "2023-07-01T07:11:27.240121Z",
     "iopub.status.busy": "2023-07-01T07:11:27.239627Z",
     "iopub.status.idle": "2023-07-01T07:11:27.261750Z",
     "shell.execute_reply": "2023-07-01T07:11:27.260196Z"
    },
    "papermill": {
     "duration": 0.041722,
     "end_time": "2023-07-01T07:11:27.264659",
     "exception": false,
     "start_time": "2023-07-01T07:11:27.222937",
     "status": "completed"
    },
    "tags": []
   },
   "outputs": [
    {
     "data": {
      "text/html": [
       "<div>\n",
       "<style scoped>\n",
       "    .dataframe tbody tr th:only-of-type {\n",
       "        vertical-align: middle;\n",
       "    }\n",
       "\n",
       "    .dataframe tbody tr th {\n",
       "        vertical-align: top;\n",
       "    }\n",
       "\n",
       "    .dataframe thead th {\n",
       "        text-align: right;\n",
       "    }\n",
       "</style>\n",
       "<table border=\"1\" class=\"dataframe\">\n",
       "  <thead>\n",
       "    <tr style=\"text-align: right;\">\n",
       "      <th></th>\n",
       "      <th>label</th>\n",
       "      <th>sms</th>\n",
       "      <th>contains_free</th>\n",
       "      <th>binaryLabel</th>\n",
       "    </tr>\n",
       "  </thead>\n",
       "  <tbody>\n",
       "    <tr>\n",
       "      <th>0</th>\n",
       "      <td>ham</td>\n",
       "      <td>Go until jurong point, crazy.. Available only ...</td>\n",
       "      <td>0</td>\n",
       "      <td>0</td>\n",
       "    </tr>\n",
       "    <tr>\n",
       "      <th>1</th>\n",
       "      <td>ham</td>\n",
       "      <td>Ok lar... Joking wif u oni...</td>\n",
       "      <td>0</td>\n",
       "      <td>0</td>\n",
       "    </tr>\n",
       "    <tr>\n",
       "      <th>2</th>\n",
       "      <td>spam</td>\n",
       "      <td>Free entry in 2 a wkly comp to win FA Cup fina...</td>\n",
       "      <td>1</td>\n",
       "      <td>1</td>\n",
       "    </tr>\n",
       "    <tr>\n",
       "      <th>3</th>\n",
       "      <td>ham</td>\n",
       "      <td>U dun say so early hor... U c already then say...</td>\n",
       "      <td>0</td>\n",
       "      <td>0</td>\n",
       "    </tr>\n",
       "    <tr>\n",
       "      <th>4</th>\n",
       "      <td>ham</td>\n",
       "      <td>Nah I don't think he goes to usf, he lives aro...</td>\n",
       "      <td>0</td>\n",
       "      <td>0</td>\n",
       "    </tr>\n",
       "  </tbody>\n",
       "</table>\n",
       "</div>"
      ],
      "text/plain": [
       "  label                                                sms  contains_free  \\\n",
       "0   ham  Go until jurong point, crazy.. Available only ...              0   \n",
       "1   ham                      Ok lar... Joking wif u oni...              0   \n",
       "2  spam  Free entry in 2 a wkly comp to win FA Cup fina...              1   \n",
       "3   ham  U dun say so early hor... U c already then say...              0   \n",
       "4   ham  Nah I don't think he goes to usf, he lives aro...              0   \n",
       "\n",
       "   binaryLabel  \n",
       "0            0  \n",
       "1            0  \n",
       "2            1  \n",
       "3            0  \n",
       "4            0  "
      ]
     },
     "execution_count": 10,
     "metadata": {},
     "output_type": "execute_result"
    }
   ],
   "source": [
    "spam['binaryLabel'] = spam['label'].map({'ham':0, 'spam':1})\n",
    "spam.head()"
   ]
  },
  {
   "cell_type": "code",
   "execution_count": 11,
   "id": "59ed0762",
   "metadata": {
    "execution": {
     "iopub.execute_input": "2023-07-01T07:11:27.298164Z",
     "iopub.status.busy": "2023-07-01T07:11:27.297710Z",
     "iopub.status.idle": "2023-07-01T07:13:18.005792Z",
     "shell.execute_reply": "2023-07-01T07:13:18.004448Z"
    },
    "papermill": {
     "duration": 110.744613,
     "end_time": "2023-07-01T07:13:18.024855",
     "exception": false,
     "start_time": "2023-07-01T07:11:27.280242",
     "status": "completed"
    },
    "tags": []
   },
   "outputs": [
    {
     "data": {
      "text/html": [
       "<div>\n",
       "<style scoped>\n",
       "    .dataframe tbody tr th:only-of-type {\n",
       "        vertical-align: middle;\n",
       "    }\n",
       "\n",
       "    .dataframe tbody tr th {\n",
       "        vertical-align: top;\n",
       "    }\n",
       "\n",
       "    .dataframe thead th {\n",
       "        text-align: right;\n",
       "    }\n",
       "</style>\n",
       "<table border=\"1\" class=\"dataframe\">\n",
       "  <thead>\n",
       "    <tr style=\"text-align: right;\">\n",
       "      <th></th>\n",
       "      <th>label</th>\n",
       "      <th>sms</th>\n",
       "      <th>contains_free</th>\n",
       "      <th>binaryLabel</th>\n",
       "      <th>sms_trim</th>\n",
       "      <th>sms_trim_lemma</th>\n",
       "    </tr>\n",
       "  </thead>\n",
       "  <tbody>\n",
       "    <tr>\n",
       "      <th>0</th>\n",
       "      <td>ham</td>\n",
       "      <td>Go until jurong point, crazy.. Available only ...</td>\n",
       "      <td>0</td>\n",
       "      <td>0</td>\n",
       "      <td>jurong point crazy available bugis n great wor...</td>\n",
       "      <td>jurong point crazy available bugis n great wor...</td>\n",
       "    </tr>\n",
       "    <tr>\n",
       "      <th>1</th>\n",
       "      <td>ham</td>\n",
       "      <td>Ok lar... Joking wif u oni...</td>\n",
       "      <td>0</td>\n",
       "      <td>0</td>\n",
       "      <td>ok lar joking wif u oni</td>\n",
       "      <td>ok lar joke wif u oni</td>\n",
       "    </tr>\n",
       "    <tr>\n",
       "      <th>2</th>\n",
       "      <td>spam</td>\n",
       "      <td>Free entry in 2 a wkly comp to win FA Cup fina...</td>\n",
       "      <td>1</td>\n",
       "      <td>1</td>\n",
       "      <td>free entry 2 wkly comp win fa cup final tkts 2...</td>\n",
       "      <td>free entry 2 wkly comp win fa cup final tkts 2...</td>\n",
       "    </tr>\n",
       "    <tr>\n",
       "      <th>3</th>\n",
       "      <td>ham</td>\n",
       "      <td>U dun say so early hor... U c already then say...</td>\n",
       "      <td>0</td>\n",
       "      <td>0</td>\n",
       "      <td>u dun early hor u c</td>\n",
       "      <td>u dun early hor u c</td>\n",
       "    </tr>\n",
       "    <tr>\n",
       "      <th>4</th>\n",
       "      <td>ham</td>\n",
       "      <td>Nah I don't think he goes to usf, he lives aro...</td>\n",
       "      <td>0</td>\n",
       "      <td>0</td>\n",
       "      <td>nah think goes usf lives</td>\n",
       "      <td>nah think go usf live</td>\n",
       "    </tr>\n",
       "  </tbody>\n",
       "</table>\n",
       "</div>"
      ],
      "text/plain": [
       "  label                                                sms  contains_free  \\\n",
       "0   ham  Go until jurong point, crazy.. Available only ...              0   \n",
       "1   ham                      Ok lar... Joking wif u oni...              0   \n",
       "2  spam  Free entry in 2 a wkly comp to win FA Cup fina...              1   \n",
       "3   ham  U dun say so early hor... U c already then say...              0   \n",
       "4   ham  Nah I don't think he goes to usf, he lives aro...              0   \n",
       "\n",
       "   binaryLabel                                           sms_trim  \\\n",
       "0            0  jurong point crazy available bugis n great wor...   \n",
       "1            0                            ok lar joking wif u oni   \n",
       "2            1  free entry 2 wkly comp win fa cup final tkts 2...   \n",
       "3            0                                u dun early hor u c   \n",
       "4            0                           nah think goes usf lives   \n",
       "\n",
       "                                      sms_trim_lemma  \n",
       "0  jurong point crazy available bugis n great wor...  \n",
       "1                              ok lar joke wif u oni  \n",
       "2  free entry 2 wkly comp win fa cup final tkts 2...  \n",
       "3                                u dun early hor u c  \n",
       "4                              nah think go usf live  "
      ]
     },
     "execution_count": 11,
     "metadata": {},
     "output_type": "execute_result"
    }
   ],
   "source": [
    "spam['sms_trim'] = spam['sms'].apply(msg_process)\n",
    "spam['sms_trim_lemma'] = spam['sms'].apply(lambda x: msg_process(x,toStem = True))\n",
    "\n",
    "spam.head()"
   ]
  },
  {
   "cell_type": "code",
   "execution_count": 12,
   "id": "173091cc",
   "metadata": {
    "execution": {
     "iopub.execute_input": "2023-07-01T07:13:18.060467Z",
     "iopub.status.busy": "2023-07-01T07:13:18.059942Z",
     "iopub.status.idle": "2023-07-01T07:13:18.252405Z",
     "shell.execute_reply": "2023-07-01T07:13:18.251162Z"
    },
    "papermill": {
     "duration": 0.214587,
     "end_time": "2023-07-01T07:13:18.255498",
     "exception": false,
     "start_time": "2023-07-01T07:13:18.040911",
     "status": "completed"
    },
    "tags": []
   },
   "outputs": [],
   "source": [
    "from sklearn.feature_extraction.text import TfidfVectorizer, CountVectorizer\n",
    "\n",
    "# to transform text into matrix of TF-IDF\n",
    "tfidf = TfidfVectorizer(decode_error='ignore')\n",
    "\n",
    "countVector = CountVectorizer(decode_error='ignore')"
   ]
  },
  {
   "cell_type": "code",
   "execution_count": 13,
   "id": "d0149b2d",
   "metadata": {
    "execution": {
     "iopub.execute_input": "2023-07-01T07:13:18.289288Z",
     "iopub.status.busy": "2023-07-01T07:13:18.288829Z",
     "iopub.status.idle": "2023-07-01T07:13:18.525002Z",
     "shell.execute_reply": "2023-07-01T07:13:18.523872Z"
    },
    "papermill": {
     "duration": 0.256689,
     "end_time": "2023-07-01T07:13:18.528052",
     "exception": false,
     "start_time": "2023-07-01T07:13:18.271363",
     "status": "completed"
    },
    "tags": []
   },
   "outputs": [],
   "source": [
    "# both of these are sparse matrices where each row represents a document \n",
    "# (sms_trim/sms_trim_lemma) and each column represents a unique term in the corpus\n",
    "# The values in the matrices represent the TF-IDF weights of the terms in the corresponding documents.\n",
    "\n",
    "x_tfidf = tfidf.fit_transform(spam['sms_trim'])\n",
    "x_tfidf_lemma = tfidf.fit_transform(spam['sms_trim_lemma'])"
   ]
  },
  {
   "cell_type": "code",
   "execution_count": 14,
   "id": "b5d6154d",
   "metadata": {
    "execution": {
     "iopub.execute_input": "2023-07-01T07:13:18.563020Z",
     "iopub.status.busy": "2023-07-01T07:13:18.562600Z",
     "iopub.status.idle": "2023-07-01T07:13:18.569836Z",
     "shell.execute_reply": "2023-07-01T07:13:18.568757Z"
    },
    "papermill": {
     "duration": 0.027789,
     "end_time": "2023-07-01T07:13:18.572265",
     "exception": false,
     "start_time": "2023-07-01T07:13:18.544476",
     "status": "completed"
    },
    "tags": []
   },
   "outputs": [
    {
     "data": {
      "text/plain": [
       "array([0, 0, 1, ..., 0, 0, 0])"
      ]
     },
     "execution_count": 14,
     "metadata": {},
     "output_type": "execute_result"
    }
   ],
   "source": [
    "binaryLabelArray = spam['binaryLabel'].values\n",
    "binaryLabelArray"
   ]
  },
  {
   "cell_type": "code",
   "execution_count": 15,
   "id": "c36476e6",
   "metadata": {
    "execution": {
     "iopub.execute_input": "2023-07-01T07:13:18.606312Z",
     "iopub.status.busy": "2023-07-01T07:13:18.605864Z",
     "iopub.status.idle": "2023-07-01T07:13:18.726359Z",
     "shell.execute_reply": "2023-07-01T07:13:18.725137Z"
    },
    "papermill": {
     "duration": 0.14132,
     "end_time": "2023-07-01T07:13:18.729474",
     "exception": false,
     "start_time": "2023-07-01T07:13:18.588154",
     "status": "completed"
    },
    "tags": []
   },
   "outputs": [
    {
     "name": "stdout",
     "output_type": "stream",
     "text": [
      "hello\n"
     ]
    }
   ],
   "source": [
    "from sklearn.model_selection import train_test_split\n",
    "\n",
    "# training model based on 80-20 split - 80 percent data for training, 20 percent for testing as suggested \n",
    "# on stackoverflow: https://stackoverflow.com/questions/13610074/is-there-a-rule-of-thumb-for-how-to-divide-a-dataset-into-training-and-validatio\n",
    "\n",
    "# random state is usually 42 everywhere but I put my lucky num 3\n",
    "x_train_termFreq, x_test_termFreq, y_train_termFreq, y_test_termFreq = train_test_split(\n",
    "    x_tfidf, binaryLabelArray,test_size=0.2,random_state=3)\n",
    "\n",
    "# training on the lemmatized data\n",
    "x_train_lemma, x_test_lemma, y_train_lemma, y_test_lemma = train_test_split(\n",
    "    x_tfidf_lemma, binaryLabelArray,test_size=0.2,random_state=3)\n",
    "\n",
    "print(\"hello\")"
   ]
  },
  {
   "cell_type": "code",
   "execution_count": 16,
   "id": "e7ff541d",
   "metadata": {
    "execution": {
     "iopub.execute_input": "2023-07-01T07:13:18.764638Z",
     "iopub.status.busy": "2023-07-01T07:13:18.763563Z",
     "iopub.status.idle": "2023-07-01T07:13:19.090235Z",
     "shell.execute_reply": "2023-07-01T07:13:19.088949Z"
    },
    "papermill": {
     "duration": 0.347852,
     "end_time": "2023-07-01T07:13:19.093606",
     "exception": false,
     "start_time": "2023-07-01T07:13:18.745754",
     "status": "completed"
    },
    "tags": []
   },
   "outputs": [],
   "source": [
    "# Using 3 different algorithms and comparing results\n",
    "\n",
    "from sklearn.linear_model import LogisticRegression\n",
    "from sklearn.naive_bayes import MultinomialNB\n",
    "from sklearn.tree import DecisionTreeClassifier\n",
    "\n",
    "algoArray = [LogisticRegression(random_state=3),\n",
    "            MultinomialNB(),\n",
    "            DecisionTreeClassifier(random_state=3)]"
   ]
  },
  {
   "cell_type": "code",
   "execution_count": 17,
   "id": "8d1cc04c",
   "metadata": {
    "execution": {
     "iopub.execute_input": "2023-07-01T07:13:19.128898Z",
     "iopub.status.busy": "2023-07-01T07:13:19.127834Z",
     "iopub.status.idle": "2023-07-01T07:13:19.135142Z",
     "shell.execute_reply": "2023-07-01T07:13:19.133813Z"
    },
    "papermill": {
     "duration": 0.028064,
     "end_time": "2023-07-01T07:13:19.137586",
     "exception": false,
     "start_time": "2023-07-01T07:13:19.109522",
     "status": "completed"
    },
    "tags": []
   },
   "outputs": [],
   "source": [
    "# method to train the data on each of the algos, and get accuracy on the testing set\n",
    "\n",
    "from sklearn.metrics import accuracy_score\n",
    "\n",
    "def trainAlgo(algo, x_train, x_test, y_train, y_test):\n",
    "    \n",
    "    # train the algo on the training data\n",
    "    algo.fit(x_train, y_train)\n",
    "    \n",
    "    #predict the testing data\n",
    "    pred = algo.predict(x_test)\n",
    "    \n",
    "    # compare the predicted and actual data and get accuracy score of algo\n",
    "    return accuracy_score(pred, y_test)"
   ]
  },
  {
   "cell_type": "code",
   "execution_count": 18,
   "id": "cf45ba0a",
   "metadata": {
    "execution": {
     "iopub.execute_input": "2023-07-01T07:13:19.173379Z",
     "iopub.status.busy": "2023-07-01T07:13:19.172615Z",
     "iopub.status.idle": "2023-07-01T07:13:19.590375Z",
     "shell.execute_reply": "2023-07-01T07:13:19.588607Z"
    },
    "papermill": {
     "duration": 0.438996,
     "end_time": "2023-07-01T07:13:19.593214",
     "exception": false,
     "start_time": "2023-07-01T07:13:19.154218",
     "status": "completed"
    },
    "tags": []
   },
   "outputs": [
    {
     "data": {
      "text/html": [
       "<div>\n",
       "<style scoped>\n",
       "    .dataframe tbody tr th:only-of-type {\n",
       "        vertical-align: middle;\n",
       "    }\n",
       "\n",
       "    .dataframe tbody tr th {\n",
       "        vertical-align: top;\n",
       "    }\n",
       "\n",
       "    .dataframe thead th {\n",
       "        text-align: right;\n",
       "    }\n",
       "</style>\n",
       "<table border=\"1\" class=\"dataframe\">\n",
       "  <thead>\n",
       "    <tr style=\"text-align: right;\">\n",
       "      <th></th>\n",
       "      <th>Term Freq Score</th>\n",
       "    </tr>\n",
       "  </thead>\n",
       "  <tbody>\n",
       "    <tr>\n",
       "      <th>LogisticRegression</th>\n",
       "      <td>0.947982</td>\n",
       "    </tr>\n",
       "    <tr>\n",
       "      <th>MultinomialNB</th>\n",
       "      <td>0.971300</td>\n",
       "    </tr>\n",
       "    <tr>\n",
       "      <th>DecisionTreeClassifier</th>\n",
       "      <td>0.970404</td>\n",
       "    </tr>\n",
       "  </tbody>\n",
       "</table>\n",
       "</div>"
      ],
      "text/plain": [
       "                        Term Freq Score\n",
       "LogisticRegression             0.947982\n",
       "MultinomialNB                  0.971300\n",
       "DecisionTreeClassifier         0.970404"
      ]
     },
     "execution_count": 18,
     "metadata": {},
     "output_type": "execute_result"
    }
   ],
   "source": [
    "algoNames = []\n",
    "termFreqScores = []\n",
    "\n",
    "for algo in algoArray:\n",
    "    algoNames.append(algo.__class__.__name__)\n",
    "    termFreqScores.append(trainAlgo(algo, x_train_termFreq, x_test_termFreq, y_train_termFreq, y_test_termFreq))\n",
    "    df = pd.DataFrame(index = algoNames, data = termFreqScores, columns=['Term Freq Score'])\n",
    "\n",
    "df"
   ]
  },
  {
   "cell_type": "code",
   "execution_count": 19,
   "id": "ebd8b297",
   "metadata": {
    "execution": {
     "iopub.execute_input": "2023-07-01T07:13:19.627732Z",
     "iopub.status.busy": "2023-07-01T07:13:19.627261Z",
     "iopub.status.idle": "2023-07-01T07:13:20.028666Z",
     "shell.execute_reply": "2023-07-01T07:13:20.027424Z"
    },
    "papermill": {
     "duration": 0.422133,
     "end_time": "2023-07-01T07:13:20.031587",
     "exception": false,
     "start_time": "2023-07-01T07:13:19.609454",
     "status": "completed"
    },
    "tags": []
   },
   "outputs": [
    {
     "data": {
      "text/html": [
       "<div>\n",
       "<style scoped>\n",
       "    .dataframe tbody tr th:only-of-type {\n",
       "        vertical-align: middle;\n",
       "    }\n",
       "\n",
       "    .dataframe tbody tr th {\n",
       "        vertical-align: top;\n",
       "    }\n",
       "\n",
       "    .dataframe thead th {\n",
       "        text-align: right;\n",
       "    }\n",
       "</style>\n",
       "<table border=\"1\" class=\"dataframe\">\n",
       "  <thead>\n",
       "    <tr style=\"text-align: right;\">\n",
       "      <th></th>\n",
       "      <th>Term Freq Lemma Score</th>\n",
       "    </tr>\n",
       "  </thead>\n",
       "  <tbody>\n",
       "    <tr>\n",
       "      <th>LogisticRegression</th>\n",
       "      <td>0.950673</td>\n",
       "    </tr>\n",
       "    <tr>\n",
       "      <th>MultinomialNB</th>\n",
       "      <td>0.968610</td>\n",
       "    </tr>\n",
       "    <tr>\n",
       "      <th>DecisionTreeClassifier</th>\n",
       "      <td>0.971300</td>\n",
       "    </tr>\n",
       "  </tbody>\n",
       "</table>\n",
       "</div>"
      ],
      "text/plain": [
       "                        Term Freq Lemma Score\n",
       "LogisticRegression                   0.950673\n",
       "MultinomialNB                        0.968610\n",
       "DecisionTreeClassifier               0.971300"
      ]
     },
     "execution_count": 19,
     "metadata": {},
     "output_type": "execute_result"
    }
   ],
   "source": [
    "algoNames = []\n",
    "termFreqLemmaScores = []\n",
    "\n",
    "for algo in algoArray:\n",
    "    algoNames.append(algo.__class__.__name__)\n",
    "    termFreqLemmaScores.append(trainAlgo(algo, x_train_lemma, x_test_lemma, y_train_lemma, y_test_lemma))\n",
    "    df_termFreq_lemma = pd.DataFrame(index = algoNames, data = termFreqLemmaScores, columns=['Term Freq Lemma Score'])\n",
    "\n",
    "termFreqLemmaScores\n",
    "df_termFreq_lemma\n",
    "\n",
    "# we notice that MNB and DTC have higher scores than Logistic Regression in general"
   ]
  },
  {
   "cell_type": "code",
   "execution_count": 20,
   "id": "d993e279",
   "metadata": {
    "execution": {
     "iopub.execute_input": "2023-07-01T07:13:20.068119Z",
     "iopub.status.busy": "2023-07-01T07:13:20.067090Z",
     "iopub.status.idle": "2023-07-01T07:13:20.072994Z",
     "shell.execute_reply": "2023-07-01T07:13:20.071585Z"
    },
    "papermill": {
     "duration": 0.027586,
     "end_time": "2023-07-01T07:13:20.076090",
     "exception": false,
     "start_time": "2023-07-01T07:13:20.048504",
     "status": "completed"
    },
    "tags": []
   },
   "outputs": [],
   "source": [
    "# Now I am going to try to train and test data based on count vectorizing, instead of TF-IDF"
   ]
  },
  {
   "cell_type": "code",
   "execution_count": 21,
   "id": "33f4806d",
   "metadata": {
    "execution": {
     "iopub.execute_input": "2023-07-01T07:13:20.113637Z",
     "iopub.status.busy": "2023-07-01T07:13:20.112895Z",
     "iopub.status.idle": "2023-07-01T07:13:20.338369Z",
     "shell.execute_reply": "2023-07-01T07:13:20.337194Z"
    },
    "papermill": {
     "duration": 0.247833,
     "end_time": "2023-07-01T07:13:20.341779",
     "exception": false,
     "start_time": "2023-07-01T07:13:20.093946",
     "status": "completed"
    },
    "tags": []
   },
   "outputs": [],
   "source": [
    "# both of these are sparse matrices where each row represents a document \n",
    "# (sms_trim/sms_trim_lemma) and each column represents a unique term in the corpus\n",
    "# The values in the matrices represent simply the frequency of these terms respective to the document\n",
    "\n",
    "x_countVec = countVector.fit_transform(spam['sms_trim'])\n",
    "x_countVec_lemma = countVector.fit_transform(spam['sms_trim_lemma'])"
   ]
  },
  {
   "cell_type": "code",
   "execution_count": 22,
   "id": "8f8cd2dc",
   "metadata": {
    "execution": {
     "iopub.execute_input": "2023-07-01T07:13:20.378018Z",
     "iopub.status.busy": "2023-07-01T07:13:20.377585Z",
     "iopub.status.idle": "2023-07-01T07:13:20.387763Z",
     "shell.execute_reply": "2023-07-01T07:13:20.386663Z"
    },
    "papermill": {
     "duration": 0.031644,
     "end_time": "2023-07-01T07:13:20.390456",
     "exception": false,
     "start_time": "2023-07-01T07:13:20.358812",
     "status": "completed"
    },
    "tags": []
   },
   "outputs": [],
   "source": [
    "x_train_countVec, x_test_countVec, y_train_countVec, y_test_countVec = train_test_split(\n",
    "    x_countVec, binaryLabelArray,test_size=0.2,random_state=3)\n",
    "\n",
    "# training on the lemmatized data\n",
    "x_train_countVec_lemma, x_test_countVec_lemma, y_train_countVec_lemma, y_test_countVec_lemma = train_test_split(\n",
    "    x_countVec_lemma, binaryLabelArray,test_size=0.2,random_state=3)"
   ]
  },
  {
   "cell_type": "code",
   "execution_count": 23,
   "id": "40c30caf",
   "metadata": {
    "execution": {
     "iopub.execute_input": "2023-07-01T07:13:20.425659Z",
     "iopub.status.busy": "2023-07-01T07:13:20.425219Z",
     "iopub.status.idle": "2023-07-01T07:13:20.432212Z",
     "shell.execute_reply": "2023-07-01T07:13:20.431052Z"
    },
    "papermill": {
     "duration": 0.027236,
     "end_time": "2023-07-01T07:13:20.434381",
     "exception": false,
     "start_time": "2023-07-01T07:13:20.407145",
     "status": "completed"
    },
    "tags": []
   },
   "outputs": [
    {
     "data": {
      "text/plain": [
       "['LogisticRegression', 'MultinomialNB', 'DecisionTreeClassifier']"
      ]
     },
     "execution_count": 23,
     "metadata": {},
     "output_type": "execute_result"
    }
   ],
   "source": [
    "algoNames"
   ]
  },
  {
   "cell_type": "code",
   "execution_count": 24,
   "id": "67f25c5f",
   "metadata": {
    "execution": {
     "iopub.execute_input": "2023-07-01T07:13:20.470674Z",
     "iopub.status.busy": "2023-07-01T07:13:20.469484Z",
     "iopub.status.idle": "2023-07-01T07:13:20.781190Z",
     "shell.execute_reply": "2023-07-01T07:13:20.780051Z"
    },
    "papermill": {
     "duration": 0.333091,
     "end_time": "2023-07-01T07:13:20.784017",
     "exception": false,
     "start_time": "2023-07-01T07:13:20.450926",
     "status": "completed"
    },
    "tags": []
   },
   "outputs": [
    {
     "data": {
      "text/html": [
       "<div>\n",
       "<style scoped>\n",
       "    .dataframe tbody tr th:only-of-type {\n",
       "        vertical-align: middle;\n",
       "    }\n",
       "\n",
       "    .dataframe tbody tr th {\n",
       "        vertical-align: top;\n",
       "    }\n",
       "\n",
       "    .dataframe thead th {\n",
       "        text-align: right;\n",
       "    }\n",
       "</style>\n",
       "<table border=\"1\" class=\"dataframe\">\n",
       "  <thead>\n",
       "    <tr style=\"text-align: right;\">\n",
       "      <th></th>\n",
       "      <th>Count Vector Score</th>\n",
       "    </tr>\n",
       "  </thead>\n",
       "  <tbody>\n",
       "    <tr>\n",
       "      <th>LogisticRegression</th>\n",
       "      <td>0.977578</td>\n",
       "    </tr>\n",
       "    <tr>\n",
       "      <th>MultinomialNB</th>\n",
       "      <td>0.976682</td>\n",
       "    </tr>\n",
       "    <tr>\n",
       "      <th>DecisionTreeClassifier</th>\n",
       "      <td>0.972197</td>\n",
       "    </tr>\n",
       "  </tbody>\n",
       "</table>\n",
       "</div>"
      ],
      "text/plain": [
       "                        Count Vector Score\n",
       "LogisticRegression                0.977578\n",
       "MultinomialNB                     0.976682\n",
       "DecisionTreeClassifier            0.972197"
      ]
     },
     "execution_count": 24,
     "metadata": {},
     "output_type": "execute_result"
    }
   ],
   "source": [
    "# testing with count vectorizer and non-lemmatized\n",
    "\n",
    "algoNames = []\n",
    "algoNames\n",
    "countVecScores = []\n",
    "\n",
    "for algo in algoArray:\n",
    "    algoNames.append(algo.__class__.__name__)\n",
    "    countVecScores.append(trainAlgo(algo, x_train_countVec, x_test_countVec, y_train_countVec, y_test_countVec))\n",
    "    df_countVec = pd.DataFrame(index = algoNames, data = countVecScores, columns=['Count Vector Score'])\n",
    "\n",
    "df_countVec"
   ]
  },
  {
   "cell_type": "code",
   "execution_count": 25,
   "id": "93d280d3",
   "metadata": {
    "execution": {
     "iopub.execute_input": "2023-07-01T07:13:20.820216Z",
     "iopub.status.busy": "2023-07-01T07:13:20.819763Z",
     "iopub.status.idle": "2023-07-01T07:13:21.119248Z",
     "shell.execute_reply": "2023-07-01T07:13:21.118053Z"
    },
    "papermill": {
     "duration": 0.320908,
     "end_time": "2023-07-01T07:13:21.121901",
     "exception": false,
     "start_time": "2023-07-01T07:13:20.800993",
     "status": "completed"
    },
    "tags": []
   },
   "outputs": [
    {
     "data": {
      "text/html": [
       "<div>\n",
       "<style scoped>\n",
       "    .dataframe tbody tr th:only-of-type {\n",
       "        vertical-align: middle;\n",
       "    }\n",
       "\n",
       "    .dataframe tbody tr th {\n",
       "        vertical-align: top;\n",
       "    }\n",
       "\n",
       "    .dataframe thead th {\n",
       "        text-align: right;\n",
       "    }\n",
       "</style>\n",
       "<table border=\"1\" class=\"dataframe\">\n",
       "  <thead>\n",
       "    <tr style=\"text-align: right;\">\n",
       "      <th></th>\n",
       "      <th>Count Vector Lemma Score</th>\n",
       "    </tr>\n",
       "  </thead>\n",
       "  <tbody>\n",
       "    <tr>\n",
       "      <th>LogisticRegression</th>\n",
       "      <td>0.979372</td>\n",
       "    </tr>\n",
       "    <tr>\n",
       "      <th>MultinomialNB</th>\n",
       "      <td>0.982960</td>\n",
       "    </tr>\n",
       "    <tr>\n",
       "      <th>DecisionTreeClassifier</th>\n",
       "      <td>0.967713</td>\n",
       "    </tr>\n",
       "  </tbody>\n",
       "</table>\n",
       "</div>"
      ],
      "text/plain": [
       "                        Count Vector Lemma Score\n",
       "LogisticRegression                      0.979372\n",
       "MultinomialNB                           0.982960\n",
       "DecisionTreeClassifier                  0.967713"
      ]
     },
     "execution_count": 25,
     "metadata": {},
     "output_type": "execute_result"
    }
   ],
   "source": [
    "# testing with count vectorizer and lemmatized\n",
    "\n",
    "algoNames = []\n",
    "countVecLemmaScores = []\n",
    "\n",
    "for algo in algoArray:\n",
    "    algoNames.append(algo.__class__.__name__)\n",
    "    countVecLemmaScores.append(trainAlgo(algo, x_train_countVec_lemma, x_test_countVec_lemma, \n",
    "                                         y_train_countVec_lemma, y_test_countVec_lemma))\n",
    "    df_countVec_Lemma = pd.DataFrame(index = algoNames, data = countVecLemmaScores, columns=['Count Vector Lemma Score'])\n",
    "\n",
    "df_countVec_Lemma"
   ]
  },
  {
   "cell_type": "code",
   "execution_count": 26,
   "id": "7ae66c7a",
   "metadata": {
    "execution": {
     "iopub.execute_input": "2023-07-01T07:13:21.159568Z",
     "iopub.status.busy": "2023-07-01T07:13:21.159082Z",
     "iopub.status.idle": "2023-07-01T07:13:21.164677Z",
     "shell.execute_reply": "2023-07-01T07:13:21.162978Z"
    },
    "papermill": {
     "duration": 0.027207,
     "end_time": "2023-07-01T07:13:21.167311",
     "exception": false,
     "start_time": "2023-07-01T07:13:21.140104",
     "status": "completed"
    },
    "tags": []
   },
   "outputs": [],
   "source": [
    "# we can see the count vectorized data has much higher scores"
   ]
  },
  {
   "cell_type": "code",
   "execution_count": 27,
   "id": "601b6f4f",
   "metadata": {
    "execution": {
     "iopub.execute_input": "2023-07-01T07:13:21.202313Z",
     "iopub.status.busy": "2023-07-01T07:13:21.201873Z",
     "iopub.status.idle": "2023-07-01T07:13:21.219451Z",
     "shell.execute_reply": "2023-07-01T07:13:21.218123Z"
    },
    "papermill": {
     "duration": 0.038011,
     "end_time": "2023-07-01T07:13:21.221979",
     "exception": false,
     "start_time": "2023-07-01T07:13:21.183968",
     "status": "completed"
    },
    "tags": []
   },
   "outputs": [
    {
     "data": {
      "text/html": [
       "<div>\n",
       "<style scoped>\n",
       "    .dataframe tbody tr th:only-of-type {\n",
       "        vertical-align: middle;\n",
       "    }\n",
       "\n",
       "    .dataframe tbody tr th {\n",
       "        vertical-align: top;\n",
       "    }\n",
       "\n",
       "    .dataframe thead th {\n",
       "        text-align: right;\n",
       "    }\n",
       "</style>\n",
       "<table border=\"1\" class=\"dataframe\">\n",
       "  <thead>\n",
       "    <tr style=\"text-align: right;\">\n",
       "      <th></th>\n",
       "      <th>Term Freq Score</th>\n",
       "      <th>Term Freq Lemma Score</th>\n",
       "      <th>Count Vector Score</th>\n",
       "      <th>Count Vector Lemma Score</th>\n",
       "    </tr>\n",
       "  </thead>\n",
       "  <tbody>\n",
       "    <tr>\n",
       "      <th>LogisticRegression</th>\n",
       "      <td>0.947982</td>\n",
       "      <td>0.950673</td>\n",
       "      <td>0.977578</td>\n",
       "      <td>0.979372</td>\n",
       "    </tr>\n",
       "    <tr>\n",
       "      <th>MultinomialNB</th>\n",
       "      <td>0.971300</td>\n",
       "      <td>0.968610</td>\n",
       "      <td>0.976682</td>\n",
       "      <td>0.982960</td>\n",
       "    </tr>\n",
       "    <tr>\n",
       "      <th>DecisionTreeClassifier</th>\n",
       "      <td>0.970404</td>\n",
       "      <td>0.971300</td>\n",
       "      <td>0.972197</td>\n",
       "      <td>0.967713</td>\n",
       "    </tr>\n",
       "  </tbody>\n",
       "</table>\n",
       "</div>"
      ],
      "text/plain": [
       "                        Term Freq Score  Term Freq Lemma Score  \\\n",
       "LogisticRegression             0.947982               0.950673   \n",
       "MultinomialNB                  0.971300               0.968610   \n",
       "DecisionTreeClassifier         0.970404               0.971300   \n",
       "\n",
       "                        Count Vector Score  Count Vector Lemma Score  \n",
       "LogisticRegression                0.977578                  0.979372  \n",
       "MultinomialNB                     0.976682                  0.982960  \n",
       "DecisionTreeClassifier            0.972197                  0.967713  "
      ]
     },
     "execution_count": 27,
     "metadata": {},
     "output_type": "execute_result"
    }
   ],
   "source": [
    "allScores = pd.concat([df, df_termFreq_lemma, df_countVec, df_countVec_Lemma], axis = 1)\n",
    "allScores"
   ]
  },
  {
   "cell_type": "code",
   "execution_count": 28,
   "id": "c4ffd14f",
   "metadata": {
    "execution": {
     "iopub.execute_input": "2023-07-01T07:13:21.258748Z",
     "iopub.status.busy": "2023-07-01T07:13:21.258303Z",
     "iopub.status.idle": "2023-07-01T07:13:21.270221Z",
     "shell.execute_reply": "2023-07-01T07:13:21.268966Z"
    },
    "papermill": {
     "duration": 0.033523,
     "end_time": "2023-07-01T07:13:21.272834",
     "exception": false,
     "start_time": "2023-07-01T07:13:21.239311",
     "status": "completed"
    },
    "tags": []
   },
   "outputs": [
    {
     "data": {
      "text/plain": [
       "Term Freq Score             0.971300\n",
       "Term Freq Lemma Score       0.971300\n",
       "Count Vector Score          0.977578\n",
       "Count Vector Lemma Score    0.982960\n",
       "dtype: float64"
      ]
     },
     "execution_count": 28,
     "metadata": {},
     "output_type": "execute_result"
    }
   ],
   "source": [
    "allScores.max().sort_values(ascending=True)"
   ]
  },
  {
   "cell_type": "code",
   "execution_count": 29,
   "id": "47aa7378",
   "metadata": {
    "execution": {
     "iopub.execute_input": "2023-07-01T07:13:21.308984Z",
     "iopub.status.busy": "2023-07-01T07:13:21.308539Z",
     "iopub.status.idle": "2023-07-01T07:13:21.313621Z",
     "shell.execute_reply": "2023-07-01T07:13:21.312164Z"
    },
    "papermill": {
     "duration": 0.026554,
     "end_time": "2023-07-01T07:13:21.316376",
     "exception": false,
     "start_time": "2023-07-01T07:13:21.289822",
     "status": "completed"
    },
    "tags": []
   },
   "outputs": [],
   "source": [
    "# As we can see, the best scores were obtained by Count Vectorizer with lemmatization, trained, fit and tested\n",
    "# on the Multinomial Naive-Bayes Algorithm"
   ]
  },
  {
   "cell_type": "code",
   "execution_count": 30,
   "id": "cbf34586",
   "metadata": {
    "execution": {
     "iopub.execute_input": "2023-07-01T07:13:21.353739Z",
     "iopub.status.busy": "2023-07-01T07:13:21.353253Z",
     "iopub.status.idle": "2023-07-01T07:13:21.358767Z",
     "shell.execute_reply": "2023-07-01T07:13:21.357391Z"
    },
    "papermill": {
     "duration": 0.027639,
     "end_time": "2023-07-01T07:13:21.361544",
     "exception": false,
     "start_time": "2023-07-01T07:13:21.333905",
     "status": "completed"
    },
    "tags": []
   },
   "outputs": [],
   "source": [
    "# Trying hyperparameter tuning"
   ]
  },
  {
   "cell_type": "code",
   "execution_count": 31,
   "id": "19bdbbce",
   "metadata": {
    "execution": {
     "iopub.execute_input": "2023-07-01T07:13:21.399293Z",
     "iopub.status.busy": "2023-07-01T07:13:21.398468Z",
     "iopub.status.idle": "2023-07-01T07:13:21.704101Z",
     "shell.execute_reply": "2023-07-01T07:13:21.703220Z"
    },
    "papermill": {
     "duration": 0.326785,
     "end_time": "2023-07-01T07:13:21.706224",
     "exception": false,
     "start_time": "2023-07-01T07:13:21.379439",
     "status": "completed"
    },
    "tags": []
   },
   "outputs": [
    {
     "name": "stdout",
     "output_type": "stream",
     "text": [
      "Fitting 5 folds for each of 13 candidates, totalling 65 fits\n",
      "{'alpha': 3}\n"
     ]
    },
    {
     "data": {
      "text/html": [
       "<style>#sk-container-id-1 {color: black;background-color: white;}#sk-container-id-1 pre{padding: 0;}#sk-container-id-1 div.sk-toggleable {background-color: white;}#sk-container-id-1 label.sk-toggleable__label {cursor: pointer;display: block;width: 100%;margin-bottom: 0;padding: 0.3em;box-sizing: border-box;text-align: center;}#sk-container-id-1 label.sk-toggleable__label-arrow:before {content: \"▸\";float: left;margin-right: 0.25em;color: #696969;}#sk-container-id-1 label.sk-toggleable__label-arrow:hover:before {color: black;}#sk-container-id-1 div.sk-estimator:hover label.sk-toggleable__label-arrow:before {color: black;}#sk-container-id-1 div.sk-toggleable__content {max-height: 0;max-width: 0;overflow: hidden;text-align: left;background-color: #f0f8ff;}#sk-container-id-1 div.sk-toggleable__content pre {margin: 0.2em;color: black;border-radius: 0.25em;background-color: #f0f8ff;}#sk-container-id-1 input.sk-toggleable__control:checked~div.sk-toggleable__content {max-height: 200px;max-width: 100%;overflow: auto;}#sk-container-id-1 input.sk-toggleable__control:checked~label.sk-toggleable__label-arrow:before {content: \"▾\";}#sk-container-id-1 div.sk-estimator input.sk-toggleable__control:checked~label.sk-toggleable__label {background-color: #d4ebff;}#sk-container-id-1 div.sk-label input.sk-toggleable__control:checked~label.sk-toggleable__label {background-color: #d4ebff;}#sk-container-id-1 input.sk-hidden--visually {border: 0;clip: rect(1px 1px 1px 1px);clip: rect(1px, 1px, 1px, 1px);height: 1px;margin: -1px;overflow: hidden;padding: 0;position: absolute;width: 1px;}#sk-container-id-1 div.sk-estimator {font-family: monospace;background-color: #f0f8ff;border: 1px dotted black;border-radius: 0.25em;box-sizing: border-box;margin-bottom: 0.5em;}#sk-container-id-1 div.sk-estimator:hover {background-color: #d4ebff;}#sk-container-id-1 div.sk-parallel-item::after {content: \"\";width: 100%;border-bottom: 1px solid gray;flex-grow: 1;}#sk-container-id-1 div.sk-label:hover label.sk-toggleable__label {background-color: #d4ebff;}#sk-container-id-1 div.sk-serial::before {content: \"\";position: absolute;border-left: 1px solid gray;box-sizing: border-box;top: 0;bottom: 0;left: 50%;z-index: 0;}#sk-container-id-1 div.sk-serial {display: flex;flex-direction: column;align-items: center;background-color: white;padding-right: 0.2em;padding-left: 0.2em;position: relative;}#sk-container-id-1 div.sk-item {position: relative;z-index: 1;}#sk-container-id-1 div.sk-parallel {display: flex;align-items: stretch;justify-content: center;background-color: white;position: relative;}#sk-container-id-1 div.sk-item::before, #sk-container-id-1 div.sk-parallel-item::before {content: \"\";position: absolute;border-left: 1px solid gray;box-sizing: border-box;top: 0;bottom: 0;left: 50%;z-index: -1;}#sk-container-id-1 div.sk-parallel-item {display: flex;flex-direction: column;z-index: 1;position: relative;background-color: white;}#sk-container-id-1 div.sk-parallel-item:first-child::after {align-self: flex-end;width: 50%;}#sk-container-id-1 div.sk-parallel-item:last-child::after {align-self: flex-start;width: 50%;}#sk-container-id-1 div.sk-parallel-item:only-child::after {width: 0;}#sk-container-id-1 div.sk-dashed-wrapped {border: 1px dashed gray;margin: 0 0.4em 0.5em 0.4em;box-sizing: border-box;padding-bottom: 0.4em;background-color: white;}#sk-container-id-1 div.sk-label label {font-family: monospace;font-weight: bold;display: inline-block;line-height: 1.2em;}#sk-container-id-1 div.sk-label-container {text-align: center;}#sk-container-id-1 div.sk-container {/* jupyter's `normalize.less` sets `[hidden] { display: none; }` but bootstrap.min.css set `[hidden] { display: none !important; }` so we also need the `!important` here to be able to override the default hidden behavior on the sphinx rendered scikit-learn.org. See: https://github.com/scikit-learn/scikit-learn/issues/21755 */display: inline-block !important;position: relative;}#sk-container-id-1 div.sk-text-repr-fallback {display: none;}</style><div id=\"sk-container-id-1\" class=\"sk-top-container\"><div class=\"sk-text-repr-fallback\"><pre>MultinomialNB(alpha=3)</pre><b>In a Jupyter environment, please rerun this cell to show the HTML representation or trust the notebook. <br />On GitHub, the HTML representation is unable to render, please try loading this page with nbviewer.org.</b></div><div class=\"sk-container\" hidden><div class=\"sk-item\"><div class=\"sk-estimator sk-toggleable\"><input class=\"sk-toggleable__control sk-hidden--visually\" id=\"sk-estimator-id-1\" type=\"checkbox\" checked><label for=\"sk-estimator-id-1\" class=\"sk-toggleable__label sk-toggleable__label-arrow\">MultinomialNB</label><div class=\"sk-toggleable__content\"><pre>MultinomialNB(alpha=3)</pre></div></div></div></div></div>"
      ],
      "text/plain": [
       "MultinomialNB(alpha=3)"
      ]
     },
     "execution_count": 31,
     "metadata": {},
     "output_type": "execute_result"
    }
   ],
   "source": [
    "from sklearn.model_selection import GridSearchCV\n",
    "from sklearn.metrics import classification_report\n",
    "\n",
    "from datetime import datetime\n",
    "\n",
    "params = {'alpha':[0.001,0.01,0.1,0.2,1,2,3,4,5,6,7,10,100]}\n",
    "grid_search = GridSearchCV(MultinomialNB(), params, cv=5, verbose=True)\n",
    "\n",
    "time = datetime.now()\n",
    "grid_search.fit(x_train_countVec, y_train_countVec)\n",
    "\n",
    "print(grid_search.best_params_)\n",
    "grid_search.best_estimator_"
   ]
  },
  {
   "cell_type": "code",
   "execution_count": 32,
   "id": "a32489b2",
   "metadata": {
    "execution": {
     "iopub.execute_input": "2023-07-01T07:13:21.743203Z",
     "iopub.status.busy": "2023-07-01T07:13:21.742695Z",
     "iopub.status.idle": "2023-07-01T07:13:21.765334Z",
     "shell.execute_reply": "2023-07-01T07:13:21.763262Z"
    },
    "papermill": {
     "duration": 0.044522,
     "end_time": "2023-07-01T07:13:21.768141",
     "exception": false,
     "start_time": "2023-07-01T07:13:21.723619",
     "status": "completed"
    },
    "tags": []
   },
   "outputs": [
    {
     "name": "stdout",
     "output_type": "stream",
     "text": [
      "Accuracy:  0.9865470852017937\n",
      "              precision    recall  f1-score   support\n",
      "\n",
      "           0       1.00      0.99      0.99       967\n",
      "           1       0.93      0.97      0.95       148\n",
      "\n",
      "    accuracy                           0.99      1115\n",
      "   macro avg       0.96      0.98      0.97      1115\n",
      "weighted avg       0.99      0.99      0.99      1115\n",
      "\n"
     ]
    }
   ],
   "source": [
    "mnb = MultinomialNB(alpha=3, class_prior=None, fit_prior=True)\n",
    "\n",
    "mnb.fit(x_train_countVec, y_train_countVec)\n",
    "y_pred = mnb.predict(x_test_countVec)\n",
    "\n",
    "print(\"Accuracy: \", accuracy_score(y_pred, y_test_countVec))\n",
    "print(classification_report(y_pred, y_test_countVec))"
   ]
  },
  {
   "cell_type": "code",
   "execution_count": 33,
   "id": "ea1be48a",
   "metadata": {
    "execution": {
     "iopub.execute_input": "2023-07-01T07:13:21.805297Z",
     "iopub.status.busy": "2023-07-01T07:13:21.804780Z",
     "iopub.status.idle": "2023-07-01T07:13:22.108698Z",
     "shell.execute_reply": "2023-07-01T07:13:22.107469Z"
    },
    "papermill": {
     "duration": 0.325827,
     "end_time": "2023-07-01T07:13:22.111248",
     "exception": false,
     "start_time": "2023-07-01T07:13:21.785421",
     "status": "completed"
    },
    "tags": []
   },
   "outputs": [
    {
     "name": "stdout",
     "output_type": "stream",
     "text": [
      "Fitting 5 folds for each of 13 candidates, totalling 65 fits\n",
      "{'alpha': 2}\n"
     ]
    },
    {
     "data": {
      "text/html": [
       "<style>#sk-container-id-2 {color: black;background-color: white;}#sk-container-id-2 pre{padding: 0;}#sk-container-id-2 div.sk-toggleable {background-color: white;}#sk-container-id-2 label.sk-toggleable__label {cursor: pointer;display: block;width: 100%;margin-bottom: 0;padding: 0.3em;box-sizing: border-box;text-align: center;}#sk-container-id-2 label.sk-toggleable__label-arrow:before {content: \"▸\";float: left;margin-right: 0.25em;color: #696969;}#sk-container-id-2 label.sk-toggleable__label-arrow:hover:before {color: black;}#sk-container-id-2 div.sk-estimator:hover label.sk-toggleable__label-arrow:before {color: black;}#sk-container-id-2 div.sk-toggleable__content {max-height: 0;max-width: 0;overflow: hidden;text-align: left;background-color: #f0f8ff;}#sk-container-id-2 div.sk-toggleable__content pre {margin: 0.2em;color: black;border-radius: 0.25em;background-color: #f0f8ff;}#sk-container-id-2 input.sk-toggleable__control:checked~div.sk-toggleable__content {max-height: 200px;max-width: 100%;overflow: auto;}#sk-container-id-2 input.sk-toggleable__control:checked~label.sk-toggleable__label-arrow:before {content: \"▾\";}#sk-container-id-2 div.sk-estimator input.sk-toggleable__control:checked~label.sk-toggleable__label {background-color: #d4ebff;}#sk-container-id-2 div.sk-label input.sk-toggleable__control:checked~label.sk-toggleable__label {background-color: #d4ebff;}#sk-container-id-2 input.sk-hidden--visually {border: 0;clip: rect(1px 1px 1px 1px);clip: rect(1px, 1px, 1px, 1px);height: 1px;margin: -1px;overflow: hidden;padding: 0;position: absolute;width: 1px;}#sk-container-id-2 div.sk-estimator {font-family: monospace;background-color: #f0f8ff;border: 1px dotted black;border-radius: 0.25em;box-sizing: border-box;margin-bottom: 0.5em;}#sk-container-id-2 div.sk-estimator:hover {background-color: #d4ebff;}#sk-container-id-2 div.sk-parallel-item::after {content: \"\";width: 100%;border-bottom: 1px solid gray;flex-grow: 1;}#sk-container-id-2 div.sk-label:hover label.sk-toggleable__label {background-color: #d4ebff;}#sk-container-id-2 div.sk-serial::before {content: \"\";position: absolute;border-left: 1px solid gray;box-sizing: border-box;top: 0;bottom: 0;left: 50%;z-index: 0;}#sk-container-id-2 div.sk-serial {display: flex;flex-direction: column;align-items: center;background-color: white;padding-right: 0.2em;padding-left: 0.2em;position: relative;}#sk-container-id-2 div.sk-item {position: relative;z-index: 1;}#sk-container-id-2 div.sk-parallel {display: flex;align-items: stretch;justify-content: center;background-color: white;position: relative;}#sk-container-id-2 div.sk-item::before, #sk-container-id-2 div.sk-parallel-item::before {content: \"\";position: absolute;border-left: 1px solid gray;box-sizing: border-box;top: 0;bottom: 0;left: 50%;z-index: -1;}#sk-container-id-2 div.sk-parallel-item {display: flex;flex-direction: column;z-index: 1;position: relative;background-color: white;}#sk-container-id-2 div.sk-parallel-item:first-child::after {align-self: flex-end;width: 50%;}#sk-container-id-2 div.sk-parallel-item:last-child::after {align-self: flex-start;width: 50%;}#sk-container-id-2 div.sk-parallel-item:only-child::after {width: 0;}#sk-container-id-2 div.sk-dashed-wrapped {border: 1px dashed gray;margin: 0 0.4em 0.5em 0.4em;box-sizing: border-box;padding-bottom: 0.4em;background-color: white;}#sk-container-id-2 div.sk-label label {font-family: monospace;font-weight: bold;display: inline-block;line-height: 1.2em;}#sk-container-id-2 div.sk-label-container {text-align: center;}#sk-container-id-2 div.sk-container {/* jupyter's `normalize.less` sets `[hidden] { display: none; }` but bootstrap.min.css set `[hidden] { display: none !important; }` so we also need the `!important` here to be able to override the default hidden behavior on the sphinx rendered scikit-learn.org. See: https://github.com/scikit-learn/scikit-learn/issues/21755 */display: inline-block !important;position: relative;}#sk-container-id-2 div.sk-text-repr-fallback {display: none;}</style><div id=\"sk-container-id-2\" class=\"sk-top-container\"><div class=\"sk-text-repr-fallback\"><pre>MultinomialNB(alpha=2)</pre><b>In a Jupyter environment, please rerun this cell to show the HTML representation or trust the notebook. <br />On GitHub, the HTML representation is unable to render, please try loading this page with nbviewer.org.</b></div><div class=\"sk-container\" hidden><div class=\"sk-item\"><div class=\"sk-estimator sk-toggleable\"><input class=\"sk-toggleable__control sk-hidden--visually\" id=\"sk-estimator-id-2\" type=\"checkbox\" checked><label for=\"sk-estimator-id-2\" class=\"sk-toggleable__label sk-toggleable__label-arrow\">MultinomialNB</label><div class=\"sk-toggleable__content\"><pre>MultinomialNB(alpha=2)</pre></div></div></div></div></div>"
      ],
      "text/plain": [
       "MultinomialNB(alpha=2)"
      ]
     },
     "execution_count": 33,
     "metadata": {},
     "output_type": "execute_result"
    }
   ],
   "source": [
    "grid_search.fit(x_train_countVec_lemma, y_train_countVec_lemma)\n",
    "\n",
    "print(grid_search.best_params_)\n",
    "grid_search.best_estimator_"
   ]
  },
  {
   "cell_type": "code",
   "execution_count": 34,
   "id": "f02d28c1",
   "metadata": {
    "execution": {
     "iopub.execute_input": "2023-07-01T07:13:22.150687Z",
     "iopub.status.busy": "2023-07-01T07:13:22.149965Z",
     "iopub.status.idle": "2023-07-01T07:13:22.170061Z",
     "shell.execute_reply": "2023-07-01T07:13:22.168854Z"
    },
    "papermill": {
     "duration": 0.043176,
     "end_time": "2023-07-01T07:13:22.172670",
     "exception": false,
     "start_time": "2023-07-01T07:13:22.129494",
     "status": "completed"
    },
    "tags": []
   },
   "outputs": [
    {
     "name": "stdout",
     "output_type": "stream",
     "text": [
      "Accuracy:  0.9865470852017937\n",
      "              precision    recall  f1-score   support\n",
      "\n",
      "           0       0.99      0.99      0.99       963\n",
      "           1       0.94      0.96      0.95       152\n",
      "\n",
      "    accuracy                           0.99      1115\n",
      "   macro avg       0.97      0.98      0.97      1115\n",
      "weighted avg       0.99      0.99      0.99      1115\n",
      "\n"
     ]
    }
   ],
   "source": [
    "mnb = MultinomialNB(alpha=2, class_prior=None, fit_prior=True)\n",
    "\n",
    "mnb.fit(x_train_countVec_lemma, y_train_countVec_lemma)\n",
    "y_pred_lemma = mnb.predict(x_test_countVec_lemma)\n",
    "\n",
    "print(\"Accuracy: \", accuracy_score(y_pred_lemma, y_test_countVec_lemma))\n",
    "print(classification_report(y_pred_lemma, y_test_countVec_lemma))"
   ]
  },
  {
   "cell_type": "code",
   "execution_count": 35,
   "id": "583aef2b",
   "metadata": {
    "execution": {
     "iopub.execute_input": "2023-07-01T07:13:22.211462Z",
     "iopub.status.busy": "2023-07-01T07:13:22.210696Z",
     "iopub.status.idle": "2023-07-01T07:13:22.231056Z",
     "shell.execute_reply": "2023-07-01T07:13:22.229842Z"
    },
    "papermill": {
     "duration": 0.042824,
     "end_time": "2023-07-01T07:13:22.233597",
     "exception": false,
     "start_time": "2023-07-01T07:13:22.190773",
     "status": "completed"
    },
    "tags": []
   },
   "outputs": [
    {
     "name": "stdout",
     "output_type": "stream",
     "text": [
      "Accuracy:  0.9883408071748879\n",
      "              precision    recall  f1-score   support\n",
      "\n",
      "           0       1.00      0.99      0.99       967\n",
      "           1       0.94      0.98      0.96       148\n",
      "\n",
      "    accuracy                           0.99      1115\n",
      "   macro avg       0.97      0.98      0.98      1115\n",
      "weighted avg       0.99      0.99      0.99      1115\n",
      "\n"
     ]
    }
   ],
   "source": [
    "mnb = MultinomialNB(alpha=3, class_prior=None, fit_prior=True)\n",
    "\n",
    "mnb.fit(x_train_countVec_lemma, y_train_countVec_lemma)\n",
    "y_pred_lemma = mnb.predict(x_test_countVec_lemma)\n",
    "\n",
    "print(\"Accuracy: \", accuracy_score(y_pred_lemma, y_test_countVec_lemma))\n",
    "print(classification_report(y_pred_lemma, y_test_countVec_lemma))"
   ]
  },
  {
   "cell_type": "code",
   "execution_count": null,
   "id": "9e659ea8",
   "metadata": {
    "papermill": {
     "duration": 0.018538,
     "end_time": "2023-07-01T07:13:22.270477",
     "exception": false,
     "start_time": "2023-07-01T07:13:22.251939",
     "status": "completed"
    },
    "tags": []
   },
   "outputs": [],
   "source": []
  }
 ],
 "metadata": {
  "kernelspec": {
   "display_name": "Python 3",
   "language": "python",
   "name": "python3"
  },
  "language_info": {
   "codemirror_mode": {
    "name": "ipython",
    "version": 3
   },
   "file_extension": ".py",
   "mimetype": "text/x-python",
   "name": "python",
   "nbconvert_exporter": "python",
   "pygments_lexer": "ipython3",
   "version": "3.10.10"
  },
  "papermill": {
   "default_parameters": {},
   "duration": 167.867971,
   "end_time": "2023-07-01T07:13:25.262759",
   "environment_variables": {},
   "exception": null,
   "input_path": "__notebook__.ipynb",
   "output_path": "__notebook__.ipynb",
   "parameters": {},
   "start_time": "2023-07-01T07:10:37.394788",
   "version": "2.4.0"
  }
 },
 "nbformat": 4,
 "nbformat_minor": 5
}
